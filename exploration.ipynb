{
 "cells": [
  {
   "cell_type": "code",
   "execution_count": 1,
   "metadata": {},
   "outputs": [],
   "source": [
    "import pandas as pd"
   ]
  },
  {
   "attachments": {},
   "cell_type": "markdown",
   "metadata": {},
   "source": [
    "## Drugs Datasets"
   ]
  },
  {
   "attachments": {},
   "cell_type": "markdown",
   "metadata": {},
   "source": [
    "### Load Datasets"
   ]
  },
  {
   "attachments": {},
   "cell_type": "markdown",
   "metadata": {},
   "source": [
    "#### Wikidata Dataset"
   ]
  },
  {
   "cell_type": "code",
   "execution_count": 2,
   "metadata": {},
   "outputs": [
    {
     "name": "stdout",
     "output_type": "stream",
     "text": [
      "<class 'pandas.core.frame.DataFrame'>\n",
      "Index: 1542 entries, 0 to 1545\n",
      "Data columns (total 6 columns):\n",
      " #   Column         Non-Null Count  Dtype \n",
      "---  ------         --------------  ----- \n",
      " 0   DrugBank ID    1542 non-null   object\n",
      " 1   Name           1542 non-null   object\n",
      " 2   SMILES         1308 non-null   object\n",
      " 3   InChI          1308 non-null   object\n",
      " 4   Generic Names  1308 non-null   object\n",
      " 5   Wikidata URL   1542 non-null   object\n",
      "dtypes: object(6)\n",
      "memory usage: 84.3+ KB\n"
     ]
    }
   ],
   "source": [
    "drugs1_df = pd.read_csv(\"Wikidata/drugs.tsv\", delimiter=\"\\t\")\n",
    "\n",
    "# FORMAT\n",
    "drugs1_df.Name = drugs1_df.Name.str.lower().str.strip()\n",
    "\n",
    "drugs1_df.drop_duplicates(subset=[\"DrugBank ID\", \"Name\"], inplace=True)\n",
    "\n",
    "drugs1_df.info()"
   ]
  },
  {
   "cell_type": "code",
   "execution_count": 3,
   "metadata": {},
   "outputs": [
    {
     "data": {
      "text/html": [
       "<div>\n",
       "<style scoped>\n",
       "    .dataframe tbody tr th:only-of-type {\n",
       "        vertical-align: middle;\n",
       "    }\n",
       "\n",
       "    .dataframe tbody tr th {\n",
       "        vertical-align: top;\n",
       "    }\n",
       "\n",
       "    .dataframe thead th {\n",
       "        text-align: right;\n",
       "    }\n",
       "</style>\n",
       "<table border=\"1\" class=\"dataframe\">\n",
       "  <thead>\n",
       "    <tr style=\"text-align: right;\">\n",
       "      <th></th>\n",
       "      <th>nunique</th>\n",
       "      <th>count</th>\n",
       "    </tr>\n",
       "  </thead>\n",
       "  <tbody>\n",
       "    <tr>\n",
       "      <th>DrugBank ID</th>\n",
       "      <td>1540</td>\n",
       "      <td>1542</td>\n",
       "    </tr>\n",
       "    <tr>\n",
       "      <th>SMILES</th>\n",
       "      <td>1286</td>\n",
       "      <td>1308</td>\n",
       "    </tr>\n",
       "  </tbody>\n",
       "</table>\n",
       "</div>"
      ],
      "text/plain": [
       "             nunique  count\n",
       "DrugBank ID     1540   1542\n",
       "SMILES          1286   1308"
      ]
     },
     "execution_count": 3,
     "metadata": {},
     "output_type": "execute_result"
    }
   ],
   "source": [
    "drugs1_df.nunique().compare(drugs1_df.count(), keep_equal=True, result_names=(\"nunique\", \"count\"))"
   ]
  },
  {
   "cell_type": "code",
   "execution_count": 4,
   "metadata": {},
   "outputs": [
    {
     "data": {
      "text/html": [
       "<div>\n",
       "<style scoped>\n",
       "    .dataframe tbody tr th:only-of-type {\n",
       "        vertical-align: middle;\n",
       "    }\n",
       "\n",
       "    .dataframe tbody tr th {\n",
       "        vertical-align: top;\n",
       "    }\n",
       "\n",
       "    .dataframe thead th {\n",
       "        text-align: right;\n",
       "    }\n",
       "</style>\n",
       "<table border=\"1\" class=\"dataframe\">\n",
       "  <thead>\n",
       "    <tr style=\"text-align: right;\">\n",
       "      <th></th>\n",
       "      <th></th>\n",
       "      <th>DrugBank ID</th>\n",
       "      <th>Name</th>\n",
       "      <th>SMILES</th>\n",
       "      <th>InChI</th>\n",
       "      <th>Generic Names</th>\n",
       "      <th>Wikidata URL</th>\n",
       "    </tr>\n",
       "    <tr>\n",
       "      <th>DrugBank ID</th>\n",
       "      <th></th>\n",
       "      <th></th>\n",
       "      <th></th>\n",
       "      <th></th>\n",
       "      <th></th>\n",
       "      <th></th>\n",
       "      <th></th>\n",
       "    </tr>\n",
       "  </thead>\n",
       "  <tbody>\n",
       "    <tr>\n",
       "      <th rowspan=\"2\" valign=\"top\">00727</th>\n",
       "      <th>665</th>\n",
       "      <td>00727</td>\n",
       "      <td>pharmaceutical preparation of nitroglycerin</td>\n",
       "      <td>NaN</td>\n",
       "      <td>NaN</td>\n",
       "      <td>NaN</td>\n",
       "      <td>http://www.wikidata.org/entity/Q3221044</td>\n",
       "    </tr>\n",
       "    <tr>\n",
       "      <th>986</th>\n",
       "      <td>00727</td>\n",
       "      <td>nitroglycerin</td>\n",
       "      <td>C(C(CO[N+](=O)[O-])O[N+](=O)[O-])O[N+](=O)[O-]</td>\n",
       "      <td>InChI=1S/C3H5N3O9/c7-4(8)13-1-3(15-6(11)12)2-1...</td>\n",
       "      <td>NG ; Nitroglycerin ; Nitrostat ; glyceryl trin...</td>\n",
       "      <td>http://www.wikidata.org/entity/Q162867</td>\n",
       "    </tr>\n",
       "    <tr>\n",
       "      <th rowspan=\"2\" valign=\"top\">01356</th>\n",
       "      <th>276</th>\n",
       "      <td>01356</td>\n",
       "      <td>lithium</td>\n",
       "      <td>NaN</td>\n",
       "      <td>NaN</td>\n",
       "      <td>NaN</td>\n",
       "      <td>http://www.wikidata.org/entity/Q568</td>\n",
       "    </tr>\n",
       "    <tr>\n",
       "      <th>1065</th>\n",
       "      <td>01356</td>\n",
       "      <td>lithium compounds</td>\n",
       "      <td>NaN</td>\n",
       "      <td>NaN</td>\n",
       "      <td>NaN</td>\n",
       "      <td>http://www.wikidata.org/entity/Q152763</td>\n",
       "    </tr>\n",
       "  </tbody>\n",
       "</table>\n",
       "</div>"
      ],
      "text/plain": [
       "                 DrugBank ID                                         Name   \n",
       "DrugBank ID                                                                 \n",
       "00727       665        00727  pharmaceutical preparation of nitroglycerin  \\\n",
       "            986        00727                                nitroglycerin   \n",
       "01356       276        01356                                      lithium   \n",
       "            1065       01356                            lithium compounds   \n",
       "\n",
       "                                                          SMILES   \n",
       "DrugBank ID                                                        \n",
       "00727       665                                              NaN  \\\n",
       "            986   C(C(CO[N+](=O)[O-])O[N+](=O)[O-])O[N+](=O)[O-]   \n",
       "01356       276                                              NaN   \n",
       "            1065                                             NaN   \n",
       "\n",
       "                                                              InChI   \n",
       "DrugBank ID                                                           \n",
       "00727       665                                                 NaN  \\\n",
       "            986   InChI=1S/C3H5N3O9/c7-4(8)13-1-3(15-6(11)12)2-1...   \n",
       "01356       276                                                 NaN   \n",
       "            1065                                                NaN   \n",
       "\n",
       "                                                      Generic Names   \n",
       "DrugBank ID                                                           \n",
       "00727       665                                                 NaN  \\\n",
       "            986   NG ; Nitroglycerin ; Nitrostat ; glyceryl trin...   \n",
       "01356       276                                                 NaN   \n",
       "            1065                                                NaN   \n",
       "\n",
       "                                             Wikidata URL  \n",
       "DrugBank ID                                                \n",
       "00727       665   http://www.wikidata.org/entity/Q3221044  \n",
       "            986    http://www.wikidata.org/entity/Q162867  \n",
       "01356       276       http://www.wikidata.org/entity/Q568  \n",
       "            1065   http://www.wikidata.org/entity/Q152763  "
      ]
     },
     "execution_count": 4,
     "metadata": {},
     "output_type": "execute_result"
    }
   ],
   "source": [
    "drugs1_df[drugs1_df[\"DrugBank ID\"].duplicated(keep=False)].groupby(\"DrugBank ID\").apply(lambda x: x)"
   ]
  },
  {
   "cell_type": "code",
   "execution_count": 5,
   "metadata": {},
   "outputs": [
    {
     "data": {
      "text/html": [
       "<div>\n",
       "<style scoped>\n",
       "    .dataframe tbody tr th:only-of-type {\n",
       "        vertical-align: middle;\n",
       "    }\n",
       "\n",
       "    .dataframe tbody tr th {\n",
       "        vertical-align: top;\n",
       "    }\n",
       "\n",
       "    .dataframe thead th {\n",
       "        text-align: right;\n",
       "    }\n",
       "</style>\n",
       "<table border=\"1\" class=\"dataframe\">\n",
       "  <thead>\n",
       "    <tr style=\"text-align: right;\">\n",
       "      <th></th>\n",
       "      <th>DrugBank ID</th>\n",
       "      <th>Name</th>\n",
       "      <th>SMILES</th>\n",
       "      <th>InChI</th>\n",
       "      <th>Generic Names</th>\n",
       "      <th>Wikidata URL</th>\n",
       "    </tr>\n",
       "    <tr>\n",
       "      <th>Name</th>\n",
       "      <th></th>\n",
       "      <th></th>\n",
       "      <th></th>\n",
       "      <th></th>\n",
       "      <th></th>\n",
       "      <th></th>\n",
       "    </tr>\n",
       "  </thead>\n",
       "  <tbody>\n",
       "  </tbody>\n",
       "</table>\n",
       "</div>"
      ],
      "text/plain": [
       "Empty DataFrame\n",
       "Columns: [DrugBank ID, Name, SMILES, InChI, Generic Names, Wikidata URL]\n",
       "Index: []"
      ]
     },
     "execution_count": 5,
     "metadata": {},
     "output_type": "execute_result"
    }
   ],
   "source": [
    "drugs1_df[drugs1_df[\"Name\"].duplicated(keep=False)].groupby(\"Name\").apply(lambda x: x)"
   ]
  },
  {
   "cell_type": "code",
   "execution_count": 6,
   "metadata": {},
   "outputs": [
    {
     "data": {
      "text/html": [
       "<div>\n",
       "<style scoped>\n",
       "    .dataframe tbody tr th:only-of-type {\n",
       "        vertical-align: middle;\n",
       "    }\n",
       "\n",
       "    .dataframe tbody tr th {\n",
       "        vertical-align: top;\n",
       "    }\n",
       "\n",
       "    .dataframe thead th {\n",
       "        text-align: right;\n",
       "    }\n",
       "</style>\n",
       "<table border=\"1\" class=\"dataframe\">\n",
       "  <thead>\n",
       "    <tr style=\"text-align: right;\">\n",
       "      <th></th>\n",
       "      <th></th>\n",
       "      <th>DrugBank ID</th>\n",
       "      <th>Name</th>\n",
       "      <th>SMILES</th>\n",
       "      <th>InChI</th>\n",
       "      <th>Generic Names</th>\n",
       "      <th>Wikidata URL</th>\n",
       "    </tr>\n",
       "    <tr>\n",
       "      <th>DrugBank ID</th>\n",
       "      <th></th>\n",
       "      <th></th>\n",
       "      <th></th>\n",
       "      <th></th>\n",
       "      <th></th>\n",
       "      <th></th>\n",
       "      <th></th>\n",
       "    </tr>\n",
       "  </thead>\n",
       "  <tbody>\n",
       "    <tr>\n",
       "      <th rowspan=\"2\" valign=\"top\">00727</th>\n",
       "      <th>665</th>\n",
       "      <td>00727</td>\n",
       "      <td>pharmaceutical preparation of nitroglycerin</td>\n",
       "      <td>NaN</td>\n",
       "      <td>NaN</td>\n",
       "      <td>nan ; NG ; Nitroglycerin ; Nitrostat ; glycery...</td>\n",
       "      <td>http://www.wikidata.org/entity/Q3221044</td>\n",
       "    </tr>\n",
       "    <tr>\n",
       "      <th>986</th>\n",
       "      <td>00727</td>\n",
       "      <td>nitroglycerin</td>\n",
       "      <td>C(C(CO[N+](=O)[O-])O[N+](=O)[O-])O[N+](=O)[O-]</td>\n",
       "      <td>InChI=1S/C3H5N3O9/c7-4(8)13-1-3(15-6(11)12)2-1...</td>\n",
       "      <td>nan ; NG ; Nitroglycerin ; Nitrostat ; glycery...</td>\n",
       "      <td>http://www.wikidata.org/entity/Q162867</td>\n",
       "    </tr>\n",
       "    <tr>\n",
       "      <th rowspan=\"2\" valign=\"top\">01356</th>\n",
       "      <th>276</th>\n",
       "      <td>01356</td>\n",
       "      <td>lithium</td>\n",
       "      <td>NaN</td>\n",
       "      <td>NaN</td>\n",
       "      <td>nan ; nan ; lithium ; lithium compounds</td>\n",
       "      <td>http://www.wikidata.org/entity/Q568</td>\n",
       "    </tr>\n",
       "    <tr>\n",
       "      <th>1065</th>\n",
       "      <td>01356</td>\n",
       "      <td>lithium compounds</td>\n",
       "      <td>NaN</td>\n",
       "      <td>NaN</td>\n",
       "      <td>nan ; nan ; lithium ; lithium compounds</td>\n",
       "      <td>http://www.wikidata.org/entity/Q152763</td>\n",
       "    </tr>\n",
       "  </tbody>\n",
       "</table>\n",
       "</div>"
      ],
      "text/plain": [
       "                 DrugBank ID                                         Name   \n",
       "DrugBank ID                                                                 \n",
       "00727       665        00727  pharmaceutical preparation of nitroglycerin  \\\n",
       "            986        00727                                nitroglycerin   \n",
       "01356       276        01356                                      lithium   \n",
       "            1065       01356                            lithium compounds   \n",
       "\n",
       "                                                          SMILES   \n",
       "DrugBank ID                                                        \n",
       "00727       665                                              NaN  \\\n",
       "            986   C(C(CO[N+](=O)[O-])O[N+](=O)[O-])O[N+](=O)[O-]   \n",
       "01356       276                                              NaN   \n",
       "            1065                                             NaN   \n",
       "\n",
       "                                                              InChI   \n",
       "DrugBank ID                                                           \n",
       "00727       665                                                 NaN  \\\n",
       "            986   InChI=1S/C3H5N3O9/c7-4(8)13-1-3(15-6(11)12)2-1...   \n",
       "01356       276                                                 NaN   \n",
       "            1065                                                NaN   \n",
       "\n",
       "                                                      Generic Names   \n",
       "DrugBank ID                                                           \n",
       "00727       665   nan ; NG ; Nitroglycerin ; Nitrostat ; glycery...  \\\n",
       "            986   nan ; NG ; Nitroglycerin ; Nitrostat ; glycery...   \n",
       "01356       276             nan ; nan ; lithium ; lithium compounds   \n",
       "            1065            nan ; nan ; lithium ; lithium compounds   \n",
       "\n",
       "                                             Wikidata URL  \n",
       "DrugBank ID                                                \n",
       "00727       665   http://www.wikidata.org/entity/Q3221044  \n",
       "            986    http://www.wikidata.org/entity/Q162867  \n",
       "01356       276       http://www.wikidata.org/entity/Q568  \n",
       "            1065   http://www.wikidata.org/entity/Q152763  "
      ]
     },
     "execution_count": 6,
     "metadata": {},
     "output_type": "execute_result"
    }
   ],
   "source": [
    "drugs1_df_duplicated_ID = drugs1_df[drugs1_df[\"DrugBank ID\"].duplicated(keep=False)].groupby(\"DrugBank ID\").agg({\"Name\": lambda x: list(x.astype(str)), \"Generic Names\": lambda x: list(x.astype(str))})\n",
    "drugs1_df_duplicated_ID[\"Generic Names\"] = drugs1_df_duplicated_ID[\"Generic Names\"].add(drugs1_df_duplicated_ID.Name).apply(lambda x :\" ; \".join(x))\n",
    "drugs1_df_duplicated_ID = drugs1_df_duplicated_ID.explode(\"Name\")\n",
    "\n",
    "mapping_dict = drugs1_df_duplicated_ID.set_index(\"Name\")[\"Generic Names\"].to_dict()\n",
    "drugs1_df[\"Generic Names\"] = drugs1_df.Name.map(mapping_dict).fillna(drugs1_df[\"Generic Names\"])\n",
    "drugs1_df[drugs1_df[\"DrugBank ID\"].duplicated(keep=False)].groupby(\"DrugBank ID\").apply(lambda x: x)"
   ]
  },
  {
   "cell_type": "code",
   "execution_count": 7,
   "metadata": {},
   "outputs": [
    {
     "name": "stdout",
     "output_type": "stream",
     "text": [
      "<class 'pandas.core.frame.DataFrame'>\n",
      "Index: 1540 entries, 0 to 1545\n",
      "Data columns (total 6 columns):\n",
      " #   Column         Non-Null Count  Dtype \n",
      "---  ------         --------------  ----- \n",
      " 0   DrugBank ID    1540 non-null   object\n",
      " 1   Name           1540 non-null   object\n",
      " 2   SMILES         1307 non-null   object\n",
      " 3   InChI          1307 non-null   object\n",
      " 4   Generic Names  1309 non-null   object\n",
      " 5   Wikidata URL   1540 non-null   object\n",
      "dtypes: object(6)\n",
      "memory usage: 84.2+ KB\n"
     ]
    }
   ],
   "source": [
    "# REMOVE DUPLICATES\n",
    "drugs1_df.drop_duplicates(subset=[\"DrugBank ID\"], inplace=True)\n",
    "drugs1_df.drop_duplicates(subset=[\"Name\"], inplace=True)\n",
    "\n",
    "drugs1_df.info()"
   ]
  },
  {
   "attachments": {},
   "cell_type": "markdown",
   "metadata": {},
   "source": [
    "#### PharmGKB Dataset"
   ]
  },
  {
   "cell_type": "code",
   "execution_count": 8,
   "metadata": {},
   "outputs": [
    {
     "name": "stdout",
     "output_type": "stream",
     "text": [
      "<class 'pandas.core.frame.DataFrame'>\n",
      "RangeIndex: 3550 entries, 0 to 3549\n",
      "Data columns (total 24 columns):\n",
      " #   Column                            Non-Null Count  Dtype \n",
      "---  ------                            --------------  ----- \n",
      " 0   PharmGKB Accession Id             3550 non-null   object\n",
      " 1   Name                              3550 non-null   object\n",
      " 2   Generic Names                     1574 non-null   object\n",
      " 3   Trade Names                       1670 non-null   object\n",
      " 4   Brand Mixtures                    254 non-null    object\n",
      " 5   Type                              3550 non-null   object\n",
      " 6   Cross-references                  2138 non-null   object\n",
      " 7   SMILES                            1681 non-null   object\n",
      " 8   InChI                             1681 non-null   object\n",
      " 9   Dosing Guideline                  3550 non-null   object\n",
      " 10  External Vocabulary               3055 non-null   object\n",
      " 11  Clinical Annotation Count         3550 non-null   int64 \n",
      " 12  Variant Annotation Count          3550 non-null   int64 \n",
      " 13  Pathway Count                     3550 non-null   int64 \n",
      " 14  VIP Count                         3550 non-null   int64 \n",
      " 15  Dosing Guideline Sources          195 non-null    object\n",
      " 16  Top Clinical Annotation Level     628 non-null    object\n",
      " 17  Top FDA Label Testing Level       383 non-null    object\n",
      " 18  Top Any Drug Label Testing Level  459 non-null    object\n",
      " 19  Label Has Dosing Info             39 non-null     object\n",
      " 20  Has Rx Annotation                 56 non-null     object\n",
      " 21  RxNorm Identifiers                1726 non-null   object\n",
      " 22  ATC Identifiers                   2455 non-null   object\n",
      " 23  PubChem Compound Identifiers      1896 non-null   object\n",
      "dtypes: int64(4), object(20)\n",
      "memory usage: 665.8+ KB\n"
     ]
    }
   ],
   "source": [
    "drugs2_df = pd.read_csv(\"PharmGKB/primary_data/drugs/drugs.tsv\", delimiter=\"\\t\")\n",
    "\n",
    "# FORMAT\n",
    "drugs2_df.Name = drugs2_df.Name.str.lower().str.strip()\n",
    "\n",
    "drugs2_df.drop_duplicates(subset=[\"PharmGKB Accession Id\", \"Name\"], inplace=True)\n",
    "\n",
    "drugs2_df.info()"
   ]
  },
  {
   "cell_type": "code",
   "execution_count": 9,
   "metadata": {},
   "outputs": [
    {
     "data": {
      "text/html": [
       "<div>\n",
       "<style scoped>\n",
       "    .dataframe tbody tr th:only-of-type {\n",
       "        vertical-align: middle;\n",
       "    }\n",
       "\n",
       "    .dataframe tbody tr th {\n",
       "        vertical-align: top;\n",
       "    }\n",
       "\n",
       "    .dataframe thead th {\n",
       "        text-align: right;\n",
       "    }\n",
       "</style>\n",
       "<table border=\"1\" class=\"dataframe\">\n",
       "  <thead>\n",
       "    <tr style=\"text-align: right;\">\n",
       "      <th></th>\n",
       "      <th>nunique</th>\n",
       "      <th>count</th>\n",
       "    </tr>\n",
       "  </thead>\n",
       "  <tbody>\n",
       "    <tr>\n",
       "      <th>Generic Names</th>\n",
       "      <td>1562</td>\n",
       "      <td>1574</td>\n",
       "    </tr>\n",
       "    <tr>\n",
       "      <th>Trade Names</th>\n",
       "      <td>1669</td>\n",
       "      <td>1670</td>\n",
       "    </tr>\n",
       "    <tr>\n",
       "      <th>Brand Mixtures</th>\n",
       "      <td>247</td>\n",
       "      <td>254</td>\n",
       "    </tr>\n",
       "    <tr>\n",
       "      <th>Type</th>\n",
       "      <td>8</td>\n",
       "      <td>3550</td>\n",
       "    </tr>\n",
       "    <tr>\n",
       "      <th>SMILES</th>\n",
       "      <td>1672</td>\n",
       "      <td>1681</td>\n",
       "    </tr>\n",
       "    <tr>\n",
       "      <th>InChI</th>\n",
       "      <td>1672</td>\n",
       "      <td>1681</td>\n",
       "    </tr>\n",
       "    <tr>\n",
       "      <th>Dosing Guideline</th>\n",
       "      <td>2</td>\n",
       "      <td>3550</td>\n",
       "    </tr>\n",
       "    <tr>\n",
       "      <th>External Vocabulary</th>\n",
       "      <td>3005</td>\n",
       "      <td>3055</td>\n",
       "    </tr>\n",
       "    <tr>\n",
       "      <th>Clinical Annotation Count</th>\n",
       "      <td>138</td>\n",
       "      <td>3550</td>\n",
       "    </tr>\n",
       "    <tr>\n",
       "      <th>Variant Annotation Count</th>\n",
       "      <td>273</td>\n",
       "      <td>3550</td>\n",
       "    </tr>\n",
       "    <tr>\n",
       "      <th>Pathway Count</th>\n",
       "      <td>6</td>\n",
       "      <td>3550</td>\n",
       "    </tr>\n",
       "    <tr>\n",
       "      <th>VIP Count</th>\n",
       "      <td>9</td>\n",
       "      <td>3550</td>\n",
       "    </tr>\n",
       "    <tr>\n",
       "      <th>Dosing Guideline Sources</th>\n",
       "      <td>15</td>\n",
       "      <td>195</td>\n",
       "    </tr>\n",
       "    <tr>\n",
       "      <th>Top Clinical Annotation Level</th>\n",
       "      <td>6</td>\n",
       "      <td>628</td>\n",
       "    </tr>\n",
       "    <tr>\n",
       "      <th>Top FDA Label Testing Level</th>\n",
       "      <td>4</td>\n",
       "      <td>383</td>\n",
       "    </tr>\n",
       "    <tr>\n",
       "      <th>Top Any Drug Label Testing Level</th>\n",
       "      <td>4</td>\n",
       "      <td>459</td>\n",
       "    </tr>\n",
       "    <tr>\n",
       "      <th>Label Has Dosing Info</th>\n",
       "      <td>1</td>\n",
       "      <td>39</td>\n",
       "    </tr>\n",
       "    <tr>\n",
       "      <th>Has Rx Annotation</th>\n",
       "      <td>1</td>\n",
       "      <td>56</td>\n",
       "    </tr>\n",
       "    <tr>\n",
       "      <th>RxNorm Identifiers</th>\n",
       "      <td>1725</td>\n",
       "      <td>1726</td>\n",
       "    </tr>\n",
       "    <tr>\n",
       "      <th>PubChem Compound Identifiers</th>\n",
       "      <td>1887</td>\n",
       "      <td>1896</td>\n",
       "    </tr>\n",
       "  </tbody>\n",
       "</table>\n",
       "</div>"
      ],
      "text/plain": [
       "                                  nunique  count\n",
       "Generic Names                        1562   1574\n",
       "Trade Names                          1669   1670\n",
       "Brand Mixtures                        247    254\n",
       "Type                                    8   3550\n",
       "SMILES                               1672   1681\n",
       "InChI                                1672   1681\n",
       "Dosing Guideline                        2   3550\n",
       "External Vocabulary                  3005   3055\n",
       "Clinical Annotation Count             138   3550\n",
       "Variant Annotation Count              273   3550\n",
       "Pathway Count                           6   3550\n",
       "VIP Count                               9   3550\n",
       "Dosing Guideline Sources               15    195\n",
       "Top Clinical Annotation Level           6    628\n",
       "Top FDA Label Testing Level             4    383\n",
       "Top Any Drug Label Testing Level        4    459\n",
       "Label Has Dosing Info                   1     39\n",
       "Has Rx Annotation                       1     56\n",
       "RxNorm Identifiers                   1725   1726\n",
       "PubChem Compound Identifiers         1887   1896"
      ]
     },
     "execution_count": 9,
     "metadata": {},
     "output_type": "execute_result"
    }
   ],
   "source": [
    "drugs2_df.nunique().compare(drugs2_df.count(), keep_equal=True, result_names=(\"nunique\", \"count\"))"
   ]
  },
  {
   "cell_type": "code",
   "execution_count": 10,
   "metadata": {},
   "outputs": [
    {
     "data": {
      "text/html": [
       "<div>\n",
       "<style scoped>\n",
       "    .dataframe tbody tr th:only-of-type {\n",
       "        vertical-align: middle;\n",
       "    }\n",
       "\n",
       "    .dataframe tbody tr th {\n",
       "        vertical-align: top;\n",
       "    }\n",
       "\n",
       "    .dataframe thead th {\n",
       "        text-align: right;\n",
       "    }\n",
       "</style>\n",
       "<table border=\"1\" class=\"dataframe\">\n",
       "  <thead>\n",
       "    <tr style=\"text-align: right;\">\n",
       "      <th></th>\n",
       "      <th>PharmGKB Accession Id</th>\n",
       "      <th>Name</th>\n",
       "      <th>Generic Names</th>\n",
       "      <th>Trade Names</th>\n",
       "      <th>Brand Mixtures</th>\n",
       "      <th>Type</th>\n",
       "      <th>Cross-references</th>\n",
       "      <th>SMILES</th>\n",
       "      <th>InChI</th>\n",
       "      <th>Dosing Guideline</th>\n",
       "      <th>...</th>\n",
       "      <th>VIP Count</th>\n",
       "      <th>Dosing Guideline Sources</th>\n",
       "      <th>Top Clinical Annotation Level</th>\n",
       "      <th>Top FDA Label Testing Level</th>\n",
       "      <th>Top Any Drug Label Testing Level</th>\n",
       "      <th>Label Has Dosing Info</th>\n",
       "      <th>Has Rx Annotation</th>\n",
       "      <th>RxNorm Identifiers</th>\n",
       "      <th>ATC Identifiers</th>\n",
       "      <th>PubChem Compound Identifiers</th>\n",
       "    </tr>\n",
       "  </thead>\n",
       "  <tbody>\n",
       "    <tr>\n",
       "      <th>0</th>\n",
       "      <td>PA166238901</td>\n",
       "      <td>17-alpha-dihydroequilenin sulfate</td>\n",
       "      <td>NaN</td>\n",
       "      <td>NaN</td>\n",
       "      <td>NaN</td>\n",
       "      <td>Drug</td>\n",
       "      <td>PubChem Compound:23671798</td>\n",
       "      <td>NaN</td>\n",
       "      <td>NaN</td>\n",
       "      <td>No</td>\n",
       "      <td>...</td>\n",
       "      <td>0</td>\n",
       "      <td>NaN</td>\n",
       "      <td>NaN</td>\n",
       "      <td>NaN</td>\n",
       "      <td>NaN</td>\n",
       "      <td>NaN</td>\n",
       "      <td>NaN</td>\n",
       "      <td>NaN</td>\n",
       "      <td>NaN</td>\n",
       "      <td>23671798</td>\n",
       "    </tr>\n",
       "    <tr>\n",
       "      <th>1</th>\n",
       "      <td>PA166238881</td>\n",
       "      <td>17-alpha-dihydroequilin</td>\n",
       "      <td>NaN</td>\n",
       "      <td>NaN</td>\n",
       "      <td>NaN</td>\n",
       "      <td>Drug</td>\n",
       "      <td>PubChem Compound:9547222</td>\n",
       "      <td>NaN</td>\n",
       "      <td>NaN</td>\n",
       "      <td>No</td>\n",
       "      <td>...</td>\n",
       "      <td>0</td>\n",
       "      <td>NaN</td>\n",
       "      <td>NaN</td>\n",
       "      <td>NaN</td>\n",
       "      <td>NaN</td>\n",
       "      <td>NaN</td>\n",
       "      <td>NaN</td>\n",
       "      <td>NaN</td>\n",
       "      <td>NaN</td>\n",
       "      <td>9547222</td>\n",
       "    </tr>\n",
       "    <tr>\n",
       "      <th>2</th>\n",
       "      <td>PA166238883</td>\n",
       "      <td>17-alpha-dihydroequilin sulfate</td>\n",
       "      <td>NaN</td>\n",
       "      <td>NaN</td>\n",
       "      <td>NaN</td>\n",
       "      <td>Drug</td>\n",
       "      <td>PubChem Compound:23671797</td>\n",
       "      <td>NaN</td>\n",
       "      <td>NaN</td>\n",
       "      <td>No</td>\n",
       "      <td>...</td>\n",
       "      <td>0</td>\n",
       "      <td>NaN</td>\n",
       "      <td>NaN</td>\n",
       "      <td>NaN</td>\n",
       "      <td>NaN</td>\n",
       "      <td>NaN</td>\n",
       "      <td>NaN</td>\n",
       "      <td>NaN</td>\n",
       "      <td>NaN</td>\n",
       "      <td>23671797</td>\n",
       "    </tr>\n",
       "    <tr>\n",
       "      <th>3</th>\n",
       "      <td>PA166238882</td>\n",
       "      <td>17-alpha-estradiol sulfate</td>\n",
       "      <td>NaN</td>\n",
       "      <td>NaN</td>\n",
       "      <td>NaN</td>\n",
       "      <td>Drug</td>\n",
       "      <td>PubChem Compound:23671799</td>\n",
       "      <td>NaN</td>\n",
       "      <td>NaN</td>\n",
       "      <td>No</td>\n",
       "      <td>...</td>\n",
       "      <td>0</td>\n",
       "      <td>NaN</td>\n",
       "      <td>NaN</td>\n",
       "      <td>NaN</td>\n",
       "      <td>NaN</td>\n",
       "      <td>NaN</td>\n",
       "      <td>NaN</td>\n",
       "      <td>NaN</td>\n",
       "      <td>NaN</td>\n",
       "      <td>23671799</td>\n",
       "    </tr>\n",
       "    <tr>\n",
       "      <th>4</th>\n",
       "      <td>PA166238921</td>\n",
       "      <td>17-beta-dihydroequilenin sulfate</td>\n",
       "      <td>NaN</td>\n",
       "      <td>NaN</td>\n",
       "      <td>NaN</td>\n",
       "      <td>Drug</td>\n",
       "      <td>PubChem Compound:71316159</td>\n",
       "      <td>NaN</td>\n",
       "      <td>NaN</td>\n",
       "      <td>No</td>\n",
       "      <td>...</td>\n",
       "      <td>0</td>\n",
       "      <td>NaN</td>\n",
       "      <td>NaN</td>\n",
       "      <td>NaN</td>\n",
       "      <td>NaN</td>\n",
       "      <td>NaN</td>\n",
       "      <td>NaN</td>\n",
       "      <td>NaN</td>\n",
       "      <td>NaN</td>\n",
       "      <td>71316159</td>\n",
       "    </tr>\n",
       "  </tbody>\n",
       "</table>\n",
       "<p>5 rows × 24 columns</p>\n",
       "</div>"
      ],
      "text/plain": [
       "  PharmGKB Accession Id                               Name Generic Names   \n",
       "0           PA166238901  17-alpha-dihydroequilenin sulfate           NaN  \\\n",
       "1           PA166238881            17-alpha-dihydroequilin           NaN   \n",
       "2           PA166238883    17-alpha-dihydroequilin sulfate           NaN   \n",
       "3           PA166238882         17-alpha-estradiol sulfate           NaN   \n",
       "4           PA166238921   17-beta-dihydroequilenin sulfate           NaN   \n",
       "\n",
       "  Trade Names Brand Mixtures  Type           Cross-references SMILES InChI   \n",
       "0         NaN            NaN  Drug  PubChem Compound:23671798    NaN   NaN  \\\n",
       "1         NaN            NaN  Drug   PubChem Compound:9547222    NaN   NaN   \n",
       "2         NaN            NaN  Drug  PubChem Compound:23671797    NaN   NaN   \n",
       "3         NaN            NaN  Drug  PubChem Compound:23671799    NaN   NaN   \n",
       "4         NaN            NaN  Drug  PubChem Compound:71316159    NaN   NaN   \n",
       "\n",
       "  Dosing Guideline  ... VIP Count  Dosing Guideline Sources   \n",
       "0               No  ...         0                       NaN  \\\n",
       "1               No  ...         0                       NaN   \n",
       "2               No  ...         0                       NaN   \n",
       "3               No  ...         0                       NaN   \n",
       "4               No  ...         0                       NaN   \n",
       "\n",
       "   Top Clinical Annotation Level  Top FDA Label Testing Level   \n",
       "0                            NaN                          NaN  \\\n",
       "1                            NaN                          NaN   \n",
       "2                            NaN                          NaN   \n",
       "3                            NaN                          NaN   \n",
       "4                            NaN                          NaN   \n",
       "\n",
       "   Top Any Drug Label Testing Level Label Has Dosing Info Has Rx Annotation   \n",
       "0                               NaN                   NaN               NaN  \\\n",
       "1                               NaN                   NaN               NaN   \n",
       "2                               NaN                   NaN               NaN   \n",
       "3                               NaN                   NaN               NaN   \n",
       "4                               NaN                   NaN               NaN   \n",
       "\n",
       "  RxNorm Identifiers ATC Identifiers PubChem Compound Identifiers  \n",
       "0                NaN             NaN                     23671798  \n",
       "1                NaN             NaN                      9547222  \n",
       "2                NaN             NaN                     23671797  \n",
       "3                NaN             NaN                     23671799  \n",
       "4                NaN             NaN                     71316159  \n",
       "\n",
       "[5 rows x 24 columns]"
      ]
     },
     "execution_count": 10,
     "metadata": {},
     "output_type": "execute_result"
    }
   ],
   "source": [
    "# REMOVE DUPLICATES\n",
    "drugs2_df.drop_duplicates(subset=[\"PharmGKB Accession Id\"], inplace=True)\n",
    "drugs2_df.drop_duplicates(subset=[\"Name\"], inplace=True)\n",
    "\n",
    "drugs2_df.head()"
   ]
  },
  {
   "attachments": {},
   "cell_type": "markdown",
   "metadata": {},
   "source": [
    "### Merge Datasets"
   ]
  },
  {
   "cell_type": "code",
   "execution_count": 11,
   "metadata": {},
   "outputs": [],
   "source": [
    "def format_semicolon_as_separator(names):\n",
    "    if pd.isna(names): return\n",
    "    old_str = '\", ' if names.startswith('\"') and names.endswith('\"') else ', ' \n",
    "    return names.replace(old_str, \" ; \").replace('\"', '')"
   ]
  },
  {
   "attachments": {},
   "cell_type": "markdown",
   "metadata": {},
   "source": [
    "#### 1<sup>st</sup> Strategy"
   ]
  },
  {
   "cell_type": "code",
   "execution_count": 12,
   "metadata": {},
   "outputs": [
    {
     "data": {
      "text/plain": [
       "_merge\n",
       "right_only    2413\n",
       "both          1137\n",
       "left_only      403\n",
       "Name: count, dtype: int64"
      ]
     },
     "execution_count": 12,
     "metadata": {},
     "output_type": "execute_result"
    }
   ],
   "source": [
    "all_drugs_df = pd.merge(\n",
    "    drugs1_df, drugs2_df, on=\"Name\", how=\"outer\", indicator=True, suffixes=[\"_x\", \"\"]\n",
    ")\n",
    "\n",
    "all_drugs_df[\"Alternate_Names\"] = (\n",
    "    all_drugs_df[\"Generic Names\"]\n",
    "    .apply(format_semicolon_as_separator)\n",
    "    .fillna(all_drugs_df[\"Generic Names_x\"])\n",
    "    .add(\" ; \")\n",
    "    .fillna(\"\")\n",
    "    .add(all_drugs_df.Name)\n",
    "    .str.strip()\n",
    "    .str.replace('\"', '')\n",
    "    .str.lower()\n",
    ")\n",
    "\n",
    "all_drugs_df.drop(\n",
    "    columns=all_drugs_df.columns.difference(\n",
    "        [\"DrugBank ID\", \"PharmGKB Accession Id\", \"Name\", \"Alternate_Names\", \"_merge\"]\n",
    "    ),\n",
    "    inplace=True,\n",
    ")\n",
    "\n",
    "all_drugs_df._merge.value_counts()"
   ]
  },
  {
   "attachments": {},
   "cell_type": "markdown",
   "metadata": {},
   "source": [
    "#### 2<sup>nd</sup> Strategy"
   ]
  },
  {
   "cell_type": "code",
   "execution_count": 13,
   "metadata": {},
   "outputs": [
    {
     "data": {
      "text/plain": [
       "Name                     103\n",
       "Name_x                   103\n",
       "PharmGKB Accession Id    103\n",
       "DrugBank ID              103\n",
       "Alternate_Names          103\n",
       "_merge                     1\n",
       "dtype: int64"
      ]
     },
     "execution_count": 13,
     "metadata": {},
     "output_type": "execute_result"
    }
   ],
   "source": [
    "all_drugs_df_exploded_not_both: dict[str, pd.DataFrame] = {\n",
    "    group_name: group_data\n",
    "    for group_name, group_data in all_drugs_df.groupby(\"_merge\")\n",
    "    if group_name != \"both\"\n",
    "}\n",
    "\n",
    "columns = {\n",
    "    \"left_only\": [\"Name\", \"DrugBank ID\", \"Alternate_Names\"],\n",
    "    \"right_only\": [\"Name\", \"PharmGKB Accession Id\", \"Alternate_Names\"],\n",
    "}\n",
    "\n",
    "\n",
    "\n",
    "for group_name, group_data in all_drugs_df_exploded_not_both.items():\n",
    "    group_data.Alternate_Names = group_data.Alternate_Names.str.split(\" ; \")\n",
    "    group_data = group_data.explode(\"Alternate_Names\")\n",
    "\n",
    "    group_data.Alternate_Names = group_data.Alternate_Names.str.strip()\n",
    "\n",
    "    group_data.drop_duplicates(subset=[\"Alternate_Names\"], inplace=True)\n",
    "    group_data.drop(\n",
    "        columns=all_drugs_df.columns.difference(columns[group_name]), inplace=True\n",
    "    )\n",
    "    \n",
    "    all_drugs_df_exploded_not_both[group_name] = group_data\n",
    "\n",
    "all_drugs_df_new_both = pd.merge(\n",
    "    all_drugs_df_exploded_not_both[\"left_only\"],\n",
    "    all_drugs_df_exploded_not_both[\"right_only\"],\n",
    "    on=\"Alternate_Names\",\n",
    "    how=\"inner\",\n",
    "    suffixes=[\"_x\", \"\"],\n",
    ")\n",
    "\n",
    "all_drugs_df_new_both[\"_merge\"] = \"both\"\n",
    "\n",
    "all_drugs_df_new_both = (\n",
    "    all_drugs_df_new_both.groupby([\"Name\", \"Name_x\"])\n",
    "    .agg(\n",
    "        {\n",
    "            \"PharmGKB Accession Id\": lambda x: list(x)[0],\n",
    "            \"DrugBank ID\": lambda x: list(x)[0],\n",
    "            \"Alternate_Names\": lambda x: \" ; \".join(str(name) for name in set(x)),\n",
    "            \"_merge\": lambda x: list(x)[0],\n",
    "        }\n",
    "    )\n",
    "    .reset_index()\n",
    ")\n",
    "\n",
    "all_drugs_df_new_both.drop_duplicates(\"Name\", keep=False, inplace=True)\n",
    "all_drugs_df_new_both.drop_duplicates(\"Name_x\", keep=False, inplace=True)\n",
    "\n",
    "all_drugs_df_new_both.nunique()"
   ]
  },
  {
   "cell_type": "code",
   "execution_count": 14,
   "metadata": {},
   "outputs": [
    {
     "data": {
      "text/plain": [
       "_merge\n",
       "right_only    2310\n",
       "both          1240\n",
       "left_only      300\n",
       "Name: count, dtype: int64"
      ]
     },
     "execution_count": 14,
     "metadata": {},
     "output_type": "execute_result"
    }
   ],
   "source": [
    "all_drugs_df[\"Name_x\"] = all_drugs_df.Name\n",
    "\n",
    "all_drugs_df = pd.concat([all_drugs_df, all_drugs_df_new_both])\n",
    "all_drugs_df.sort_values(\"_merge\", inplace=True)\n",
    "\n",
    "all_drugs_df.drop_duplicates(subset=[\"Name\"], inplace=True)\n",
    "all_drugs_df.drop_duplicates(subset=[\"Name_x\"], inplace=True)\n",
    "\n",
    "all_drugs_df._merge.value_counts()"
   ]
  },
  {
   "cell_type": "code",
   "execution_count": 15,
   "metadata": {},
   "outputs": [
    {
     "data": {
      "text/html": [
       "<div>\n",
       "<style scoped>\n",
       "    .dataframe tbody tr th:only-of-type {\n",
       "        vertical-align: middle;\n",
       "    }\n",
       "\n",
       "    .dataframe tbody tr th {\n",
       "        vertical-align: top;\n",
       "    }\n",
       "\n",
       "    .dataframe thead th {\n",
       "        text-align: right;\n",
       "    }\n",
       "</style>\n",
       "<table border=\"1\" class=\"dataframe\">\n",
       "  <thead>\n",
       "    <tr style=\"text-align: right;\">\n",
       "      <th></th>\n",
       "      <th>DrugBank ID</th>\n",
       "      <th>Name</th>\n",
       "      <th>PharmGKB Accession Id</th>\n",
       "      <th>Alternate_Names</th>\n",
       "      <th>Id</th>\n",
       "    </tr>\n",
       "  </thead>\n",
       "  <tbody>\n",
       "    <tr>\n",
       "      <th>0</th>\n",
       "      <td>00001</td>\n",
       "      <td>lepirudin</td>\n",
       "      <td>PA450195</td>\n",
       "      <td>hirudin variant-1 ; lepirudin</td>\n",
       "      <td>PA450195</td>\n",
       "    </tr>\n",
       "    <tr>\n",
       "      <th>1031</th>\n",
       "      <td>01237</td>\n",
       "      <td>bromodiphenhydramine</td>\n",
       "      <td>PA164760854</td>\n",
       "      <td>ambodryl hydrochloride ; amodryl ; bromanautin...</td>\n",
       "      <td>PA164760854</td>\n",
       "    </tr>\n",
       "    <tr>\n",
       "      <th>1030</th>\n",
       "      <td>01607</td>\n",
       "      <td>ticarcillin</td>\n",
       "      <td>PA451684</td>\n",
       "      <td>ticarcilina [inn-spanish] ; ticarcillin supple...</td>\n",
       "      <td>PA451684</td>\n",
       "    </tr>\n",
       "    <tr>\n",
       "      <th>1029</th>\n",
       "      <td>06707</td>\n",
       "      <td>levonordefrin</td>\n",
       "      <td>PA165958380</td>\n",
       "      <td>(-)-cobefrin ; alpha-methylnoradrenaline ; alp...</td>\n",
       "      <td>PA165958380</td>\n",
       "    </tr>\n",
       "    <tr>\n",
       "      <th>1027</th>\n",
       "      <td>00351</td>\n",
       "      <td>megestrol</td>\n",
       "      <td>PA450351</td>\n",
       "      <td>mga ; megestrol acetate ; megestrolo [dcit] ; ...</td>\n",
       "      <td>PA450351</td>\n",
       "    </tr>\n",
       "  </tbody>\n",
       "</table>\n",
       "</div>"
      ],
      "text/plain": [
       "     DrugBank ID                  Name PharmGKB Accession Id   \n",
       "0          00001             lepirudin              PA450195  \\\n",
       "1031       01237  bromodiphenhydramine           PA164760854   \n",
       "1030       01607           ticarcillin              PA451684   \n",
       "1029       06707         levonordefrin           PA165958380   \n",
       "1027       00351             megestrol              PA450351   \n",
       "\n",
       "                                        Alternate_Names           Id  \n",
       "0                         hirudin variant-1 ; lepirudin     PA450195  \n",
       "1031  ambodryl hydrochloride ; amodryl ; bromanautin...  PA164760854  \n",
       "1030  ticarcilina [inn-spanish] ; ticarcillin supple...     PA451684  \n",
       "1029  (-)-cobefrin ; alpha-methylnoradrenaline ; alp...  PA165958380  \n",
       "1027  mga ; megestrol acetate ; megestrolo [dcit] ; ...     PA450351  "
      ]
     },
     "execution_count": 15,
     "metadata": {},
     "output_type": "execute_result"
    }
   ],
   "source": [
    "all_drugs_df.drop(columns=all_drugs_df.columns.difference([\"DrugBank ID\", \"PharmGKB Accession Id\", \"Name\", \"Alternate_Names\"]), inplace=True)\n",
    "all_drugs_df[\"Id\"] = all_drugs_df[\"PharmGKB Accession Id\"].fillna(all_drugs_df[\"DrugBank ID\"])\n",
    "all_drugs_df.head()"
   ]
  },
  {
   "attachments": {},
   "cell_type": "markdown",
   "metadata": {},
   "source": [
    "## Diseases Datasets"
   ]
  },
  {
   "attachments": {},
   "cell_type": "markdown",
   "metadata": {},
   "source": [
    "### Load Datasets"
   ]
  },
  {
   "attachments": {},
   "cell_type": "markdown",
   "metadata": {},
   "source": [
    " #### Wikidata Dataset"
   ]
  },
  {
   "cell_type": "code",
   "execution_count": 16,
   "metadata": {},
   "outputs": [
    {
     "name": "stdout",
     "output_type": "stream",
     "text": [
      "<class 'pandas.core.frame.DataFrame'>\n",
      "RangeIndex: 989 entries, 0 to 988\n",
      "Data columns (total 3 columns):\n",
      " #   Column               Non-Null Count  Dtype \n",
      "---  ------               --------------  ----- \n",
      " 0   Disease Ontology ID  989 non-null    object\n",
      " 1   Name                 989 non-null    object\n",
      " 2   Wikidata URL         989 non-null    object\n",
      "dtypes: object(3)\n",
      "memory usage: 23.3+ KB\n"
     ]
    }
   ],
   "source": [
    "diseases1_df = pd.read_csv(\"Wikidata/diseases.tsv\", delimiter=\"\\t\")\n",
    "\n",
    "# FORMAT\n",
    "diseases1_df.Name = diseases1_df.Name.str.lower().str.strip()\n",
    "\n",
    "diseases1_df.drop_duplicates(subset=[\"Disease Ontology ID\", \"Name\"], inplace=True)\n",
    "\n",
    "diseases1_df.info()"
   ]
  },
  {
   "cell_type": "code",
   "execution_count": 17,
   "metadata": {},
   "outputs": [
    {
     "data": {
      "text/html": [
       "<div>\n",
       "<style scoped>\n",
       "    .dataframe tbody tr th:only-of-type {\n",
       "        vertical-align: middle;\n",
       "    }\n",
       "\n",
       "    .dataframe tbody tr th {\n",
       "        vertical-align: top;\n",
       "    }\n",
       "\n",
       "    .dataframe thead th {\n",
       "        text-align: right;\n",
       "    }\n",
       "</style>\n",
       "<table border=\"1\" class=\"dataframe\">\n",
       "  <thead>\n",
       "    <tr style=\"text-align: right;\">\n",
       "      <th></th>\n",
       "      <th>nunique</th>\n",
       "      <th>count</th>\n",
       "    </tr>\n",
       "  </thead>\n",
       "  <tbody>\n",
       "    <tr>\n",
       "      <th>Disease Ontology ID</th>\n",
       "      <td>988</td>\n",
       "      <td>989</td>\n",
       "    </tr>\n",
       "    <tr>\n",
       "      <th>Name</th>\n",
       "      <td>983</td>\n",
       "      <td>989</td>\n",
       "    </tr>\n",
       "    <tr>\n",
       "      <th>Wikidata URL</th>\n",
       "      <td>983</td>\n",
       "      <td>989</td>\n",
       "    </tr>\n",
       "  </tbody>\n",
       "</table>\n",
       "</div>"
      ],
      "text/plain": [
       "                     nunique  count\n",
       "Disease Ontology ID      988    989\n",
       "Name                     983    989\n",
       "Wikidata URL             983    989"
      ]
     },
     "execution_count": 17,
     "metadata": {},
     "output_type": "execute_result"
    }
   ],
   "source": [
    "diseases1_df.nunique().compare(diseases1_df.count(), keep_equal=True, result_names=(\"nunique\", \"count\"))"
   ]
  },
  {
   "cell_type": "code",
   "execution_count": 18,
   "metadata": {},
   "outputs": [
    {
     "data": {
      "text/html": [
       "<div>\n",
       "<style scoped>\n",
       "    .dataframe tbody tr th:only-of-type {\n",
       "        vertical-align: middle;\n",
       "    }\n",
       "\n",
       "    .dataframe tbody tr th {\n",
       "        vertical-align: top;\n",
       "    }\n",
       "\n",
       "    .dataframe thead th {\n",
       "        text-align: right;\n",
       "    }\n",
       "</style>\n",
       "<table border=\"1\" class=\"dataframe\">\n",
       "  <thead>\n",
       "    <tr style=\"text-align: right;\">\n",
       "      <th></th>\n",
       "      <th></th>\n",
       "      <th>Disease Ontology ID</th>\n",
       "      <th>Name</th>\n",
       "      <th>Wikidata URL</th>\n",
       "    </tr>\n",
       "    <tr>\n",
       "      <th>Disease Ontology ID</th>\n",
       "      <th></th>\n",
       "      <th></th>\n",
       "      <th></th>\n",
       "      <th></th>\n",
       "    </tr>\n",
       "  </thead>\n",
       "  <tbody>\n",
       "    <tr>\n",
       "      <th rowspan=\"2\" valign=\"top\">DOID:4029</th>\n",
       "      <th>281</th>\n",
       "      <td>DOID:4029</td>\n",
       "      <td>gastritis</td>\n",
       "      <td>http://www.wikidata.org/entity/Q183130</td>\n",
       "    </tr>\n",
       "    <tr>\n",
       "      <th>984</th>\n",
       "      <td>DOID:4029</td>\n",
       "      <td>chronic gastritis</td>\n",
       "      <td>http://www.wikidata.org/entity/Q16958168</td>\n",
       "    </tr>\n",
       "  </tbody>\n",
       "</table>\n",
       "</div>"
      ],
      "text/plain": [
       "                        Disease Ontology ID               Name   \n",
       "Disease Ontology ID                                              \n",
       "DOID:4029           281           DOID:4029          gastritis  \\\n",
       "                    984           DOID:4029  chronic gastritis   \n",
       "\n",
       "                                                     Wikidata URL  \n",
       "Disease Ontology ID                                                \n",
       "DOID:4029           281    http://www.wikidata.org/entity/Q183130  \n",
       "                    984  http://www.wikidata.org/entity/Q16958168  "
      ]
     },
     "execution_count": 18,
     "metadata": {},
     "output_type": "execute_result"
    }
   ],
   "source": [
    "diseases1_df[diseases1_df[\"Disease Ontology ID\"].duplicated(keep=False)].groupby(\"Disease Ontology ID\").apply(lambda x: x)"
   ]
  },
  {
   "cell_type": "code",
   "execution_count": 19,
   "metadata": {},
   "outputs": [
    {
     "data": {
      "text/html": [
       "<div>\n",
       "<style scoped>\n",
       "    .dataframe tbody tr th:only-of-type {\n",
       "        vertical-align: middle;\n",
       "    }\n",
       "\n",
       "    .dataframe tbody tr th {\n",
       "        vertical-align: top;\n",
       "    }\n",
       "\n",
       "    .dataframe thead th {\n",
       "        text-align: right;\n",
       "    }\n",
       "</style>\n",
       "<table border=\"1\" class=\"dataframe\">\n",
       "  <thead>\n",
       "    <tr style=\"text-align: right;\">\n",
       "      <th></th>\n",
       "      <th></th>\n",
       "      <th>Disease Ontology ID</th>\n",
       "      <th>Name</th>\n",
       "      <th>Wikidata URL</th>\n",
       "    </tr>\n",
       "    <tr>\n",
       "      <th>Name</th>\n",
       "      <th></th>\n",
       "      <th></th>\n",
       "      <th></th>\n",
       "      <th></th>\n",
       "    </tr>\n",
       "  </thead>\n",
       "  <tbody>\n",
       "    <tr>\n",
       "      <th rowspan=\"2\" valign=\"top\">cocaine dependence</th>\n",
       "      <th>537</th>\n",
       "      <td>DOID:809</td>\n",
       "      <td>cocaine dependence</td>\n",
       "      <td>http://www.wikidata.org/entity/Q3743188</td>\n",
       "    </tr>\n",
       "    <tr>\n",
       "      <th>538</th>\n",
       "      <td>DOID:9975</td>\n",
       "      <td>cocaine dependence</td>\n",
       "      <td>http://www.wikidata.org/entity/Q3743188</td>\n",
       "    </tr>\n",
       "    <tr>\n",
       "      <th rowspan=\"2\" valign=\"top\">cryptococcal meningitis</th>\n",
       "      <th>726</th>\n",
       "      <td>DOID:0080159</td>\n",
       "      <td>cryptococcal meningitis</td>\n",
       "      <td>http://www.wikidata.org/entity/Q18967011</td>\n",
       "    </tr>\n",
       "    <tr>\n",
       "      <th>727</th>\n",
       "      <td>DOID:12052</td>\n",
       "      <td>cryptococcal meningitis</td>\n",
       "      <td>http://www.wikidata.org/entity/Q18967011</td>\n",
       "    </tr>\n",
       "    <tr>\n",
       "      <th rowspan=\"2\" valign=\"top\">dermatomycosis</th>\n",
       "      <th>269</th>\n",
       "      <td>DOID:0050134</td>\n",
       "      <td>dermatomycosis</td>\n",
       "      <td>http://www.wikidata.org/entity/Q3705876</td>\n",
       "    </tr>\n",
       "    <tr>\n",
       "      <th>270</th>\n",
       "      <td>DOID:1563</td>\n",
       "      <td>dermatomycosis</td>\n",
       "      <td>http://www.wikidata.org/entity/Q3705876</td>\n",
       "    </tr>\n",
       "    <tr>\n",
       "      <th rowspan=\"2\" valign=\"top\">peripheral neuropathy</th>\n",
       "      <th>366</th>\n",
       "      <td>DOID:574</td>\n",
       "      <td>peripheral neuropathy</td>\n",
       "      <td>http://www.wikidata.org/entity/Q945238</td>\n",
       "    </tr>\n",
       "    <tr>\n",
       "      <th>367</th>\n",
       "      <td>DOID:870</td>\n",
       "      <td>peripheral neuropathy</td>\n",
       "      <td>http://www.wikidata.org/entity/Q945238</td>\n",
       "    </tr>\n",
       "    <tr>\n",
       "      <th rowspan=\"2\" valign=\"top\">urinary tract infection</th>\n",
       "      <th>32</th>\n",
       "      <td>DOID:0080784</td>\n",
       "      <td>urinary tract infection</td>\n",
       "      <td>http://www.wikidata.org/entity/Q221668</td>\n",
       "    </tr>\n",
       "    <tr>\n",
       "      <th>33</th>\n",
       "      <td>DOID:13148</td>\n",
       "      <td>urinary tract infection</td>\n",
       "      <td>http://www.wikidata.org/entity/Q221668</td>\n",
       "    </tr>\n",
       "    <tr>\n",
       "      <th rowspan=\"2\" valign=\"top\">waldenström macroglobulinemia</th>\n",
       "      <th>455</th>\n",
       "      <td>DOID:0050747</td>\n",
       "      <td>waldenström macroglobulinemia</td>\n",
       "      <td>http://www.wikidata.org/entity/Q1778287</td>\n",
       "    </tr>\n",
       "    <tr>\n",
       "      <th>456</th>\n",
       "      <td>DOID:0060901</td>\n",
       "      <td>waldenström macroglobulinemia</td>\n",
       "      <td>http://www.wikidata.org/entity/Q1778287</td>\n",
       "    </tr>\n",
       "  </tbody>\n",
       "</table>\n",
       "</div>"
      ],
      "text/plain": [
       "                                  Disease Ontology ID   \n",
       "Name                                                    \n",
       "cocaine dependence            537            DOID:809  \\\n",
       "                              538           DOID:9975   \n",
       "cryptococcal meningitis       726        DOID:0080159   \n",
       "                              727          DOID:12052   \n",
       "dermatomycosis                269        DOID:0050134   \n",
       "                              270           DOID:1563   \n",
       "peripheral neuropathy         366            DOID:574   \n",
       "                              367            DOID:870   \n",
       "urinary tract infection       32         DOID:0080784   \n",
       "                              33           DOID:13148   \n",
       "waldenström macroglobulinemia 455        DOID:0050747   \n",
       "                              456        DOID:0060901   \n",
       "\n",
       "                                                            Name   \n",
       "Name                                                               \n",
       "cocaine dependence            537             cocaine dependence  \\\n",
       "                              538             cocaine dependence   \n",
       "cryptococcal meningitis       726        cryptococcal meningitis   \n",
       "                              727        cryptococcal meningitis   \n",
       "dermatomycosis                269                 dermatomycosis   \n",
       "                              270                 dermatomycosis   \n",
       "peripheral neuropathy         366          peripheral neuropathy   \n",
       "                              367          peripheral neuropathy   \n",
       "urinary tract infection       32         urinary tract infection   \n",
       "                              33         urinary tract infection   \n",
       "waldenström macroglobulinemia 455  waldenström macroglobulinemia   \n",
       "                              456  waldenström macroglobulinemia   \n",
       "\n",
       "                                                               Wikidata URL  \n",
       "Name                                                                         \n",
       "cocaine dependence            537   http://www.wikidata.org/entity/Q3743188  \n",
       "                              538   http://www.wikidata.org/entity/Q3743188  \n",
       "cryptococcal meningitis       726  http://www.wikidata.org/entity/Q18967011  \n",
       "                              727  http://www.wikidata.org/entity/Q18967011  \n",
       "dermatomycosis                269   http://www.wikidata.org/entity/Q3705876  \n",
       "                              270   http://www.wikidata.org/entity/Q3705876  \n",
       "peripheral neuropathy         366    http://www.wikidata.org/entity/Q945238  \n",
       "                              367    http://www.wikidata.org/entity/Q945238  \n",
       "urinary tract infection       32     http://www.wikidata.org/entity/Q221668  \n",
       "                              33     http://www.wikidata.org/entity/Q221668  \n",
       "waldenström macroglobulinemia 455   http://www.wikidata.org/entity/Q1778287  \n",
       "                              456   http://www.wikidata.org/entity/Q1778287  "
      ]
     },
     "execution_count": 19,
     "metadata": {},
     "output_type": "execute_result"
    }
   ],
   "source": [
    "diseases1_df[diseases1_df.Name.duplicated(keep=False)].groupby(\"Name\").apply(lambda x: x)"
   ]
  },
  {
   "cell_type": "code",
   "execution_count": 20,
   "metadata": {},
   "outputs": [
    {
     "data": {
      "text/html": [
       "<div>\n",
       "<style scoped>\n",
       "    .dataframe tbody tr th:only-of-type {\n",
       "        vertical-align: middle;\n",
       "    }\n",
       "\n",
       "    .dataframe tbody tr th {\n",
       "        vertical-align: top;\n",
       "    }\n",
       "\n",
       "    .dataframe thead th {\n",
       "        text-align: right;\n",
       "    }\n",
       "</style>\n",
       "<table border=\"1\" class=\"dataframe\">\n",
       "  <thead>\n",
       "    <tr style=\"text-align: right;\">\n",
       "      <th></th>\n",
       "      <th></th>\n",
       "      <th>Disease Ontology ID</th>\n",
       "      <th>Name</th>\n",
       "      <th>Wikidata URL</th>\n",
       "      <th>Alternate Names</th>\n",
       "    </tr>\n",
       "    <tr>\n",
       "      <th>Disease Ontology ID</th>\n",
       "      <th></th>\n",
       "      <th></th>\n",
       "      <th></th>\n",
       "      <th></th>\n",
       "      <th></th>\n",
       "    </tr>\n",
       "  </thead>\n",
       "  <tbody>\n",
       "    <tr>\n",
       "      <th rowspan=\"2\" valign=\"top\">DOID:4029</th>\n",
       "      <th>281</th>\n",
       "      <td>DOID:4029</td>\n",
       "      <td>gastritis</td>\n",
       "      <td>http://www.wikidata.org/entity/Q183130</td>\n",
       "      <td>gastritis ; chronic gastritis</td>\n",
       "    </tr>\n",
       "    <tr>\n",
       "      <th>984</th>\n",
       "      <td>DOID:4029</td>\n",
       "      <td>chronic gastritis</td>\n",
       "      <td>http://www.wikidata.org/entity/Q16958168</td>\n",
       "      <td>gastritis ; chronic gastritis</td>\n",
       "    </tr>\n",
       "  </tbody>\n",
       "</table>\n",
       "</div>"
      ],
      "text/plain": [
       "                        Disease Ontology ID               Name   \n",
       "Disease Ontology ID                                              \n",
       "DOID:4029           281           DOID:4029          gastritis  \\\n",
       "                    984           DOID:4029  chronic gastritis   \n",
       "\n",
       "                                                     Wikidata URL   \n",
       "Disease Ontology ID                                                 \n",
       "DOID:4029           281    http://www.wikidata.org/entity/Q183130  \\\n",
       "                    984  http://www.wikidata.org/entity/Q16958168   \n",
       "\n",
       "                                       Alternate Names  \n",
       "Disease Ontology ID                                     \n",
       "DOID:4029           281  gastritis ; chronic gastritis  \n",
       "                    984  gastritis ; chronic gastritis  "
      ]
     },
     "execution_count": 20,
     "metadata": {},
     "output_type": "execute_result"
    }
   ],
   "source": [
    "diseases1_df_duplicated_ID = diseases1_df[diseases1_df[\"Disease Ontology ID\"].duplicated(keep=False)].groupby(\"Disease Ontology ID\").agg({\"Name\": lambda x: list(x.astype(str))})\n",
    "diseases1_df_duplicated_ID[\"Alternate Names\"] = diseases1_df_duplicated_ID.Name.apply(lambda x :\" ; \".join(x))\n",
    "diseases1_df_duplicated_ID = diseases1_df_duplicated_ID.explode(\"Name\")\n",
    "\n",
    "mapping_dict = diseases1_df_duplicated_ID.set_index(\"Name\")[\"Alternate Names\"].to_dict()\n",
    "diseases1_df[\"Alternate Names\"] = diseases1_df.Name.map(mapping_dict)\n",
    "diseases1_df[diseases1_df[\"Disease Ontology ID\"].duplicated(keep=False)].groupby(\"Disease Ontology ID\").apply(lambda x: x)"
   ]
  },
  {
   "cell_type": "code",
   "execution_count": 21,
   "metadata": {},
   "outputs": [
    {
     "data": {
      "text/html": [
       "<div>\n",
       "<style scoped>\n",
       "    .dataframe tbody tr th:only-of-type {\n",
       "        vertical-align: middle;\n",
       "    }\n",
       "\n",
       "    .dataframe tbody tr th {\n",
       "        vertical-align: top;\n",
       "    }\n",
       "\n",
       "    .dataframe thead th {\n",
       "        text-align: right;\n",
       "    }\n",
       "</style>\n",
       "<table border=\"1\" class=\"dataframe\">\n",
       "  <thead>\n",
       "    <tr style=\"text-align: right;\">\n",
       "      <th></th>\n",
       "      <th>Disease Ontology ID</th>\n",
       "      <th>other</th>\n",
       "    </tr>\n",
       "    <tr>\n",
       "      <th>Name</th>\n",
       "      <th></th>\n",
       "      <th></th>\n",
       "    </tr>\n",
       "  </thead>\n",
       "  <tbody>\n",
       "    <tr>\n",
       "      <th>cocaine dependence</th>\n",
       "      <td>DOID:809</td>\n",
       "      <td>DOID:9975</td>\n",
       "    </tr>\n",
       "    <tr>\n",
       "      <th>cryptococcal meningitis</th>\n",
       "      <td>DOID:0080159</td>\n",
       "      <td>DOID:12052</td>\n",
       "    </tr>\n",
       "    <tr>\n",
       "      <th>dermatomycosis</th>\n",
       "      <td>DOID:0050134</td>\n",
       "      <td>DOID:1563</td>\n",
       "    </tr>\n",
       "    <tr>\n",
       "      <th>peripheral neuropathy</th>\n",
       "      <td>DOID:574</td>\n",
       "      <td>DOID:870</td>\n",
       "    </tr>\n",
       "    <tr>\n",
       "      <th>urinary tract infection</th>\n",
       "      <td>DOID:0080784</td>\n",
       "      <td>DOID:13148</td>\n",
       "    </tr>\n",
       "    <tr>\n",
       "      <th>waldenström macroglobulinemia</th>\n",
       "      <td>DOID:0050747</td>\n",
       "      <td>DOID:0060901</td>\n",
       "    </tr>\n",
       "  </tbody>\n",
       "</table>\n",
       "</div>"
      ],
      "text/plain": [
       "                              Disease Ontology ID         other\n",
       "Name                                                           \n",
       "cocaine dependence                       DOID:809     DOID:9975\n",
       "cryptococcal meningitis              DOID:0080159    DOID:12052\n",
       "dermatomycosis                       DOID:0050134     DOID:1563\n",
       "peripheral neuropathy                    DOID:574      DOID:870\n",
       "urinary tract infection              DOID:0080784    DOID:13148\n",
       "waldenström macroglobulinemia        DOID:0050747  DOID:0060901"
      ]
     },
     "execution_count": 21,
     "metadata": {},
     "output_type": "execute_result"
    }
   ],
   "source": [
    "diseases1_df_duplicated_Name_first = diseases1_df[diseases1_df.Name.duplicated(keep=\"last\")].copy()\n",
    "\n",
    "diseases1_df_duplicated_Name_others = diseases1_df[diseases1_df.Name.duplicated(keep=False) & -diseases1_df.Name.duplicated(keep=\"last\")].copy()\n",
    "\n",
    "diseases1_df_duplicated_Name_others[\"other\"] = diseases1_df_duplicated_Name_others[\"Disease Ontology ID\"]\n",
    "diseases1_df_duplicated_Name_others.drop(columns=[\"Disease Ontology ID\"], inplace=True)\n",
    "\n",
    "diseases1_df_duplicated_Name = pd.concat([diseases1_df_duplicated_Name_first, diseases1_df_duplicated_Name_others]).groupby(\"Name\").agg({\"Disease Ontology ID\": lambda x: list(x)[0], \"other\": lambda x: list(x)[1:]}).explode(\"other\")\n",
    "diseases1_df_duplicated_Name"
   ]
  },
  {
   "cell_type": "code",
   "execution_count": 22,
   "metadata": {},
   "outputs": [
    {
     "name": "stdout",
     "output_type": "stream",
     "text": [
      "<class 'pandas.core.frame.DataFrame'>\n",
      "Index: 982 entries, 0 to 988\n",
      "Data columns (total 4 columns):\n",
      " #   Column               Non-Null Count  Dtype \n",
      "---  ------               --------------  ----- \n",
      " 0   Disease Ontology ID  982 non-null    object\n",
      " 1   Name                 982 non-null    object\n",
      " 2   Wikidata URL         982 non-null    object\n",
      " 3   Alternate Names      1 non-null      object\n",
      "dtypes: object(4)\n",
      "memory usage: 38.4+ KB\n"
     ]
    }
   ],
   "source": [
    "# REMOVE DUPLICATES\n",
    "diseases1_df.drop_duplicates(subset=[\"Disease Ontology ID\"], inplace=True)\n",
    "diseases1_df.drop_duplicates(subset=[\"Name\"], inplace=True)\n",
    "\n",
    "diseases1_df.info()"
   ]
  },
  {
   "attachments": {},
   "cell_type": "markdown",
   "metadata": {},
   "source": [
    "#### PharmGKB Dataset"
   ]
  },
  {
   "cell_type": "code",
   "execution_count": 23,
   "metadata": {},
   "outputs": [
    {
     "name": "stdout",
     "output_type": "stream",
     "text": [
      "<class 'pandas.core.frame.DataFrame'>\n",
      "RangeIndex: 3587 entries, 0 to 3586\n",
      "Data columns (total 5 columns):\n",
      " #   Column                 Non-Null Count  Dtype \n",
      "---  ------                 --------------  ----- \n",
      " 0   PharmGKB Accession Id  3587 non-null   object\n",
      " 1   Name                   3587 non-null   object\n",
      " 2   Alternate Names        2472 non-null   object\n",
      " 3   Cross-references       1 non-null      object\n",
      " 4   External Vocabulary    3441 non-null   object\n",
      "dtypes: object(5)\n",
      "memory usage: 140.2+ KB\n"
     ]
    }
   ],
   "source": [
    "diseases2_df = pd.read_csv(\n",
    "    \"PharmGKB/primary_data/phenotypes/phenotypes.tsv\", delimiter=\"\\t\"\n",
    ")\n",
    "\n",
    "# Format\n",
    "diseases2_df.Name = diseases2_df.Name.str.lower().str.strip()\n",
    "\n",
    "diseases2_df.drop_duplicates(subset=[\"PharmGKB Accession Id\", \"Name\"], inplace=True)\n",
    "\n",
    "diseases2_df.info()"
   ]
  },
  {
   "cell_type": "code",
   "execution_count": 24,
   "metadata": {},
   "outputs": [
    {
     "data": {
      "text/html": [
       "<div>\n",
       "<style scoped>\n",
       "    .dataframe tbody tr th:only-of-type {\n",
       "        vertical-align: middle;\n",
       "    }\n",
       "\n",
       "    .dataframe tbody tr th {\n",
       "        vertical-align: top;\n",
       "    }\n",
       "\n",
       "    .dataframe thead th {\n",
       "        text-align: right;\n",
       "    }\n",
       "</style>\n",
       "<table border=\"1\" class=\"dataframe\">\n",
       "  <thead>\n",
       "    <tr style=\"text-align: right;\">\n",
       "      <th></th>\n",
       "      <th>nunique</th>\n",
       "      <th>count</th>\n",
       "    </tr>\n",
       "  </thead>\n",
       "  <tbody>\n",
       "    <tr>\n",
       "      <th>Name</th>\n",
       "      <td>3586</td>\n",
       "      <td>3587</td>\n",
       "    </tr>\n",
       "    <tr>\n",
       "      <th>Alternate Names</th>\n",
       "      <td>2471</td>\n",
       "      <td>2472</td>\n",
       "    </tr>\n",
       "    <tr>\n",
       "      <th>External Vocabulary</th>\n",
       "      <td>3433</td>\n",
       "      <td>3441</td>\n",
       "    </tr>\n",
       "  </tbody>\n",
       "</table>\n",
       "</div>"
      ],
      "text/plain": [
       "                     nunique  count\n",
       "Name                    3586   3587\n",
       "Alternate Names         2471   2472\n",
       "External Vocabulary     3433   3441"
      ]
     },
     "execution_count": 24,
     "metadata": {},
     "output_type": "execute_result"
    }
   ],
   "source": [
    "diseases2_df.nunique().compare(diseases2_df.count(), keep_equal=True, result_names=(\"nunique\", \"count\"))"
   ]
  },
  {
   "cell_type": "code",
   "execution_count": 25,
   "metadata": {},
   "outputs": [
    {
     "data": {
      "text/html": [
       "<div>\n",
       "<style scoped>\n",
       "    .dataframe tbody tr th:only-of-type {\n",
       "        vertical-align: middle;\n",
       "    }\n",
       "\n",
       "    .dataframe tbody tr th {\n",
       "        vertical-align: top;\n",
       "    }\n",
       "\n",
       "    .dataframe thead th {\n",
       "        text-align: right;\n",
       "    }\n",
       "</style>\n",
       "<table border=\"1\" class=\"dataframe\">\n",
       "  <thead>\n",
       "    <tr style=\"text-align: right;\">\n",
       "      <th></th>\n",
       "      <th></th>\n",
       "      <th>PharmGKB Accession Id</th>\n",
       "      <th>Name</th>\n",
       "      <th>Alternate Names</th>\n",
       "      <th>Cross-references</th>\n",
       "      <th>External Vocabulary</th>\n",
       "    </tr>\n",
       "    <tr>\n",
       "      <th>Name</th>\n",
       "      <th></th>\n",
       "      <th></th>\n",
       "      <th></th>\n",
       "      <th></th>\n",
       "      <th></th>\n",
       "      <th></th>\n",
       "    </tr>\n",
       "  </thead>\n",
       "  <tbody>\n",
       "    <tr>\n",
       "      <th rowspan=\"2\" valign=\"top\">hypersexuality state</th>\n",
       "      <th>1604</th>\n",
       "      <td>PA166232142</td>\n",
       "      <td>hypersexuality state</td>\n",
       "      <td>Compulsive sexual behaviour</td>\n",
       "      <td>NaN</td>\n",
       "      <td>SnoMedCT:73744004(Hypersexuality state)</td>\n",
       "    </tr>\n",
       "    <tr>\n",
       "      <th>1605</th>\n",
       "      <td>PA166232141</td>\n",
       "      <td>hypersexuality state</td>\n",
       "      <td>Compulsive sexual behaviour</td>\n",
       "      <td>NaN</td>\n",
       "      <td>SnoMedCT:73744004(Hypersexuality state)</td>\n",
       "    </tr>\n",
       "  </tbody>\n",
       "</table>\n",
       "</div>"
      ],
      "text/plain": [
       "                          PharmGKB Accession Id                  Name   \n",
       "Name                                                                    \n",
       "hypersexuality state 1604           PA166232142  hypersexuality state  \\\n",
       "                     1605           PA166232141  hypersexuality state   \n",
       "\n",
       "                                       Alternate Names Cross-references   \n",
       "Name                                                                      \n",
       "hypersexuality state 1604  Compulsive sexual behaviour              NaN  \\\n",
       "                     1605  Compulsive sexual behaviour              NaN   \n",
       "\n",
       "                                               External Vocabulary  \n",
       "Name                                                                \n",
       "hypersexuality state 1604  SnoMedCT:73744004(Hypersexuality state)  \n",
       "                     1605  SnoMedCT:73744004(Hypersexuality state)  "
      ]
     },
     "execution_count": 25,
     "metadata": {},
     "output_type": "execute_result"
    }
   ],
   "source": [
    "diseases2_df[diseases2_df.Name.duplicated(keep=False)].groupby(\"Name\").apply(lambda x: x)"
   ]
  },
  {
   "cell_type": "code",
   "execution_count": 26,
   "metadata": {},
   "outputs": [
    {
     "data": {
      "text/html": [
       "<div>\n",
       "<style scoped>\n",
       "    .dataframe tbody tr th:only-of-type {\n",
       "        vertical-align: middle;\n",
       "    }\n",
       "\n",
       "    .dataframe tbody tr th {\n",
       "        vertical-align: top;\n",
       "    }\n",
       "\n",
       "    .dataframe thead th {\n",
       "        text-align: right;\n",
       "    }\n",
       "</style>\n",
       "<table border=\"1\" class=\"dataframe\">\n",
       "  <thead>\n",
       "    <tr style=\"text-align: right;\">\n",
       "      <th></th>\n",
       "      <th>PharmGKB Accession Id</th>\n",
       "      <th>other</th>\n",
       "    </tr>\n",
       "    <tr>\n",
       "      <th>Name</th>\n",
       "      <th></th>\n",
       "      <th></th>\n",
       "    </tr>\n",
       "  </thead>\n",
       "  <tbody>\n",
       "    <tr>\n",
       "      <th>hypersexuality state</th>\n",
       "      <td>PA166232142</td>\n",
       "      <td>PA166232141</td>\n",
       "    </tr>\n",
       "  </tbody>\n",
       "</table>\n",
       "</div>"
      ],
      "text/plain": [
       "                     PharmGKB Accession Id        other\n",
       "Name                                                   \n",
       "hypersexuality state           PA166232142  PA166232141"
      ]
     },
     "execution_count": 26,
     "metadata": {},
     "output_type": "execute_result"
    }
   ],
   "source": [
    "diseases2_df_duplicated_Name_first = diseases2_df[diseases2_df.Name.duplicated(keep=\"last\")].copy()\n",
    "\n",
    "diseases2_df_duplicated_Name_others = diseases2_df[diseases2_df.Name.duplicated(keep=False) & -diseases2_df.Name.duplicated(keep=\"last\")].copy()\n",
    "\n",
    "diseases2_df_duplicated_Name_others[\"other\"] = diseases2_df_duplicated_Name_others[\"PharmGKB Accession Id\"]\n",
    "diseases2_df_duplicated_Name_others.drop(columns=[\"PharmGKB Accession Id\"], inplace=True)\n",
    "\n",
    "diseases2_df_duplicated_Name = pd.concat([diseases2_df_duplicated_Name_first, diseases2_df_duplicated_Name_others]).groupby(\"Name\").agg({\"PharmGKB Accession Id\": lambda x: list(x)[0], \"other\": lambda x: list(x)[1:]}).explode(\"other\")\n",
    "diseases2_df_duplicated_Name"
   ]
  },
  {
   "cell_type": "code",
   "execution_count": 27,
   "metadata": {},
   "outputs": [
    {
     "name": "stdout",
     "output_type": "stream",
     "text": [
      "<class 'pandas.core.frame.DataFrame'>\n",
      "Index: 3586 entries, 0 to 3586\n",
      "Data columns (total 5 columns):\n",
      " #   Column                 Non-Null Count  Dtype \n",
      "---  ------                 --------------  ----- \n",
      " 0   PharmGKB Accession Id  3586 non-null   object\n",
      " 1   Name                   3586 non-null   object\n",
      " 2   Alternate Names        2471 non-null   object\n",
      " 3   Cross-references       1 non-null      object\n",
      " 4   External Vocabulary    3440 non-null   object\n",
      "dtypes: object(5)\n",
      "memory usage: 168.1+ KB\n"
     ]
    }
   ],
   "source": [
    "# REMOVE DUPLICATES\n",
    "diseases2_df.drop_duplicates(subset=[\"PharmGKB Accession Id\"], inplace=True)\n",
    "diseases2_df.drop_duplicates(subset=[\"Name\"], inplace=True)\n",
    "\n",
    "diseases2_df.info()"
   ]
  },
  {
   "attachments": {},
   "cell_type": "markdown",
   "metadata": {},
   "source": [
    "### Merge Datasets"
   ]
  },
  {
   "attachments": {},
   "cell_type": "markdown",
   "metadata": {},
   "source": [
    "#### 1<sup>st</sup> Strategy"
   ]
  },
  {
   "cell_type": "code",
   "execution_count": 28,
   "metadata": {},
   "outputs": [
    {
     "data": {
      "text/plain": [
       "_merge\n",
       "right_only    3270\n",
       "left_only      666\n",
       "both           316\n",
       "Name: count, dtype: int64"
      ]
     },
     "execution_count": 28,
     "metadata": {},
     "output_type": "execute_result"
    }
   ],
   "source": [
    "all_diseases_df = pd.merge(diseases1_df, diseases2_df, on=\"Name\", how=\"outer\", indicator=True, suffixes=[\"_x\", \"\"])\n",
    "\n",
    "all_diseases_df[\"Alternate_Names\"] = (\n",
    "    all_diseases_df[\"Alternate Names\"]\n",
    "        .apply(format_semicolon_as_separator)\n",
    "        .fillna(all_diseases_df[\"Alternate Names_x\"])\n",
    "        .add(' ; ')\n",
    "        .fillna(\"\")\n",
    "        .add(all_diseases_df.Name)\n",
    "        .str.strip()\n",
    "        .str.replace('\"', '')\n",
    "        .str.lower()\n",
    "    )\n",
    "all_diseases_df.drop(columns=all_diseases_df.columns.difference([\"Disease Ontology ID\", \"PharmGKB Accession Id\", \"Name\", \"Alternate_Names\", \"_merge\"]), inplace=True)\n",
    "\n",
    "all_diseases_df._merge.value_counts()"
   ]
  },
  {
   "attachments": {},
   "cell_type": "markdown",
   "metadata": {},
   "source": [
    "#### 2<sup>nd</sup> Strategy"
   ]
  },
  {
   "cell_type": "code",
   "execution_count": 29,
   "metadata": {},
   "outputs": [
    {
     "data": {
      "text/plain": [
       "Name                     241\n",
       "Name_x                   241\n",
       "PharmGKB Accession Id    241\n",
       "Disease Ontology ID      241\n",
       "Alternate_Names          241\n",
       "_merge                     1\n",
       "dtype: int64"
      ]
     },
     "execution_count": 29,
     "metadata": {},
     "output_type": "execute_result"
    }
   ],
   "source": [
    "all_diseases_df_exploded_not_both: dict[str, pd.DataFrame] = {group_name: group_data for group_name, group_data in all_diseases_df.groupby(\"_merge\") if group_name != \"both\"}\n",
    "\n",
    "columns = {\"left_only\": [\"Name\", \"Disease Ontology ID\", \"Alternate_Names\"], \"right_only\": [\"Name\", \"PharmGKB Accession Id\", \"Alternate_Names\"]}\n",
    "\n",
    "    \n",
    "all_diseases_df_exploded_not_both[\"right_only\"].Alternate_Names = all_diseases_df_exploded_not_both[\"right_only\"].Alternate_Names.str.split(\" ; \")\n",
    "all_diseases_df_exploded_not_both[\"right_only\"] = all_diseases_df_exploded_not_both[\"right_only\"].explode(\"Alternate_Names\")\n",
    "\n",
    "for group_name, group_data in all_diseases_df_exploded_not_both.items():\n",
    "    group_data.Alternate_Names = group_data.Alternate_Names.str.strip()\n",
    "\n",
    "    group_data.drop_duplicates(subset=[\"Alternate_Names\"], inplace=True)\n",
    "    group_data.drop(columns=all_diseases_df.columns.difference(columns[group_name]), inplace=True)\n",
    "    \n",
    "    all_diseases_df_exploded_not_both[group_name] = group_data\n",
    "\n",
    "all_diseases_df_new_both = pd.merge(all_diseases_df_exploded_not_both[\"left_only\"], all_diseases_df_exploded_not_both[\"right_only\"], on=\"Alternate_Names\", how=\"inner\", suffixes=[\"_x\", \"\"])\n",
    "\n",
    "all_diseases_df_new_both[\"_merge\"] = \"both\"\n",
    "\n",
    "all_diseases_df_new_both = all_diseases_df_new_both.groupby([\"Name\", \"Name_x\"]).agg({\n",
    "    \"PharmGKB Accession Id\": lambda x: list(x)[0],\n",
    "    \"Disease Ontology ID\": lambda x: list(x)[0],\n",
    "    \"Alternate_Names\": lambda x: \" ; \".join(str(name) for name in set(x)),\n",
    "    \"_merge\": lambda x: list(x)[0]\n",
    "}).reset_index()\n",
    "\n",
    "all_diseases_df_new_both.drop_duplicates(\"Name\", keep=False, inplace=True)\n",
    "all_diseases_df_new_both.drop_duplicates(\"Name_x\", keep=False, inplace=True)\n",
    "\n",
    "all_diseases_df_new_both.nunique()"
   ]
  },
  {
   "cell_type": "code",
   "execution_count": 30,
   "metadata": {},
   "outputs": [
    {
     "data": {
      "text/plain": [
       "_merge\n",
       "right_only    3029\n",
       "both           557\n",
       "left_only      425\n",
       "Name: count, dtype: int64"
      ]
     },
     "execution_count": 30,
     "metadata": {},
     "output_type": "execute_result"
    }
   ],
   "source": [
    "all_diseases_df[\"Name_x\"] = all_diseases_df.Name\n",
    "\n",
    "all_diseases_df = pd.concat([all_diseases_df, all_diseases_df_new_both])\n",
    "\n",
    "all_diseases_df.sort_values(\"_merge\", inplace=True)\n",
    "all_diseases_df.drop_duplicates(subset=[\"Name\"], keep=\"first\", inplace=True)\n",
    "all_diseases_df.drop_duplicates(subset=[\"Name_x\"], keep=\"first\", inplace=True)\n",
    "\n",
    "all_diseases_df._merge.value_counts()"
   ]
  },
  {
   "cell_type": "code",
   "execution_count": 31,
   "metadata": {},
   "outputs": [
    {
     "data": {
      "text/html": [
       "<div>\n",
       "<style scoped>\n",
       "    .dataframe tbody tr th:only-of-type {\n",
       "        vertical-align: middle;\n",
       "    }\n",
       "\n",
       "    .dataframe tbody tr th {\n",
       "        vertical-align: top;\n",
       "    }\n",
       "\n",
       "    .dataframe thead th {\n",
       "        text-align: right;\n",
       "    }\n",
       "</style>\n",
       "<table border=\"1\" class=\"dataframe\">\n",
       "  <thead>\n",
       "    <tr style=\"text-align: right;\">\n",
       "      <th></th>\n",
       "      <th>Disease Ontology ID</th>\n",
       "      <th>Name</th>\n",
       "      <th>PharmGKB Accession Id</th>\n",
       "      <th>Alternate_Names</th>\n",
       "      <th>Id</th>\n",
       "    </tr>\n",
       "  </thead>\n",
       "  <tbody>\n",
       "    <tr>\n",
       "      <th>0</th>\n",
       "      <td>DOID:552</td>\n",
       "      <td>pneumonia</td>\n",
       "      <td>PA445355</td>\n",
       "      <td>experimental lung inflammation ; experimental ...</td>\n",
       "      <td>PA445355</td>\n",
       "    </tr>\n",
       "    <tr>\n",
       "      <th>883</th>\n",
       "      <td>DOID:865</td>\n",
       "      <td>vasculitis</td>\n",
       "      <td>PA446023</td>\n",
       "      <td>angiitides ; angiitis ; angiitis, nos ; vascul...</td>\n",
       "      <td>PA446023</td>\n",
       "    </tr>\n",
       "    <tr>\n",
       "      <th>888</th>\n",
       "      <td>DOID:9784</td>\n",
       "      <td>trichinosis</td>\n",
       "      <td>PA445920</td>\n",
       "      <td>infection by larvae of trichinella spiralis ; ...</td>\n",
       "      <td>PA445920</td>\n",
       "    </tr>\n",
       "    <tr>\n",
       "      <th>890</th>\n",
       "      <td>DOID:3068</td>\n",
       "      <td>glioblastoma</td>\n",
       "      <td>PA444283</td>\n",
       "      <td>astrocytoma, grade iv ; astrocytomas, grade iv...</td>\n",
       "      <td>PA444283</td>\n",
       "    </tr>\n",
       "    <tr>\n",
       "      <th>891</th>\n",
       "      <td>DOID:420</td>\n",
       "      <td>hypertrichosis</td>\n",
       "      <td>PA444560</td>\n",
       "      <td>excessive hair growth ; excessive hairiness ; ...</td>\n",
       "      <td>PA444560</td>\n",
       "    </tr>\n",
       "  </tbody>\n",
       "</table>\n",
       "</div>"
      ],
      "text/plain": [
       "    Disease Ontology ID            Name PharmGKB Accession Id   \n",
       "0              DOID:552       pneumonia              PA445355  \\\n",
       "883            DOID:865      vasculitis              PA446023   \n",
       "888           DOID:9784     trichinosis              PA445920   \n",
       "890           DOID:3068    glioblastoma              PA444283   \n",
       "891            DOID:420  hypertrichosis              PA444560   \n",
       "\n",
       "                                       Alternate_Names        Id  \n",
       "0    experimental lung inflammation ; experimental ...  PA445355  \n",
       "883  angiitides ; angiitis ; angiitis, nos ; vascul...  PA446023  \n",
       "888  infection by larvae of trichinella spiralis ; ...  PA445920  \n",
       "890  astrocytoma, grade iv ; astrocytomas, grade iv...  PA444283  \n",
       "891  excessive hair growth ; excessive hairiness ; ...  PA444560  "
      ]
     },
     "execution_count": 31,
     "metadata": {},
     "output_type": "execute_result"
    }
   ],
   "source": [
    "all_diseases_df.drop(columns=all_diseases_df.columns.difference([\"Disease Ontology ID\", \"PharmGKB Accession Id\", \"Name\", \"Alternate_Names\"]), inplace=True)\n",
    "all_diseases_df[\"Id\"] = all_diseases_df[\"PharmGKB Accession Id\"].fillna(all_diseases_df[\"Disease Ontology ID\"])\n",
    "\n",
    "all_diseases_df.head()"
   ]
  },
  {
   "attachments": {},
   "cell_type": "markdown",
   "metadata": {},
   "source": [
    "## Variants & Genes Datasets"
   ]
  },
  {
   "attachments": {},
   "cell_type": "markdown",
   "metadata": {},
   "source": [
    "### Variants Dataset"
   ]
  },
  {
   "cell_type": "code",
   "execution_count": 32,
   "metadata": {},
   "outputs": [
    {
     "data": {
      "text/html": [
       "<div>\n",
       "<style scoped>\n",
       "    .dataframe tbody tr th:only-of-type {\n",
       "        vertical-align: middle;\n",
       "    }\n",
       "\n",
       "    .dataframe tbody tr th {\n",
       "        vertical-align: top;\n",
       "    }\n",
       "\n",
       "    .dataframe thead th {\n",
       "        text-align: right;\n",
       "    }\n",
       "</style>\n",
       "<table border=\"1\" class=\"dataframe\">\n",
       "  <thead>\n",
       "    <tr style=\"text-align: right;\">\n",
       "      <th></th>\n",
       "      <th>Variant ID</th>\n",
       "      <th>Variant Name</th>\n",
       "      <th>Gene IDs</th>\n",
       "      <th>Gene Symbols</th>\n",
       "      <th>Location</th>\n",
       "      <th>Variant Annotation count</th>\n",
       "      <th>Clinical Annotation count</th>\n",
       "      <th>Level 1/2 Clinical Annotation count</th>\n",
       "      <th>Guideline Annotation count</th>\n",
       "      <th>Label Annotation count</th>\n",
       "      <th>Synonyms</th>\n",
       "    </tr>\n",
       "  </thead>\n",
       "  <tbody>\n",
       "    <tr>\n",
       "      <th>0</th>\n",
       "      <td>PA166156302</td>\n",
       "      <td>rs1000002</td>\n",
       "      <td>PA395</td>\n",
       "      <td>ABCC5</td>\n",
       "      <td>NC_000003.12:183917980</td>\n",
       "      <td>1</td>\n",
       "      <td>0</td>\n",
       "      <td>0</td>\n",
       "      <td>0</td>\n",
       "      <td>0</td>\n",
       "      <td>rs17623022, NG_047115.1:g.105031=, NC_000003.1...</td>\n",
       "    </tr>\n",
       "    <tr>\n",
       "      <th>1</th>\n",
       "      <td>PA166156746</td>\n",
       "      <td>rs1000113</td>\n",
       "      <td>PA142671652</td>\n",
       "      <td>IRGM</td>\n",
       "      <td>NC_000005.10:150860514</td>\n",
       "      <td>1</td>\n",
       "      <td>0</td>\n",
       "      <td>0</td>\n",
       "      <td>0</td>\n",
       "      <td>0</td>\n",
       "      <td>1000113, NC_000005.9:g.150240076=, NC_000005.9...</td>\n",
       "    </tr>\n",
       "    <tr>\n",
       "      <th>2</th>\n",
       "      <td>PA166195421</td>\n",
       "      <td>rs10006452</td>\n",
       "      <td>PA361</td>\n",
       "      <td>UGT2B7</td>\n",
       "      <td>NC_000004.12:69112090</td>\n",
       "      <td>1</td>\n",
       "      <td>0</td>\n",
       "      <td>0</td>\n",
       "      <td>0</td>\n",
       "      <td>0</td>\n",
       "      <td>10006452, NC_000004.12:g.69112090T&gt;A, 58882597...</td>\n",
       "    </tr>\n",
       "    <tr>\n",
       "      <th>3</th>\n",
       "      <td>PA166177121</td>\n",
       "      <td>rs10007051</td>\n",
       "      <td>NaN</td>\n",
       "      <td>NaN</td>\n",
       "      <td>NC_000004.12:129244309</td>\n",
       "      <td>1</td>\n",
       "      <td>1</td>\n",
       "      <td>0</td>\n",
       "      <td>0</td>\n",
       "      <td>0</td>\n",
       "      <td>NC_000004.11:g.130165464=, NC_000004.12:g.1292...</td>\n",
       "    </tr>\n",
       "    <tr>\n",
       "      <th>4</th>\n",
       "      <td>PA166156636</td>\n",
       "      <td>rs10008257</td>\n",
       "      <td>NaN</td>\n",
       "      <td>NaN</td>\n",
       "      <td>NC_000004.12:94435177</td>\n",
       "      <td>2</td>\n",
       "      <td>0</td>\n",
       "      <td>0</td>\n",
       "      <td>0</td>\n",
       "      <td>0</td>\n",
       "      <td>10008257, NC_000004.12:g.94435177=, rs10008257...</td>\n",
       "    </tr>\n",
       "  </tbody>\n",
       "</table>\n",
       "</div>"
      ],
      "text/plain": [
       "    Variant ID Variant Name     Gene IDs Gene Symbols                Location   \n",
       "0  PA166156302    rs1000002        PA395        ABCC5  NC_000003.12:183917980  \\\n",
       "1  PA166156746    rs1000113  PA142671652         IRGM  NC_000005.10:150860514   \n",
       "2  PA166195421   rs10006452        PA361       UGT2B7   NC_000004.12:69112090   \n",
       "3  PA166177121   rs10007051          NaN          NaN  NC_000004.12:129244309   \n",
       "4  PA166156636   rs10008257          NaN          NaN   NC_000004.12:94435177   \n",
       "\n",
       "   Variant Annotation count  Clinical Annotation count   \n",
       "0                         1                          0  \\\n",
       "1                         1                          0   \n",
       "2                         1                          0   \n",
       "3                         1                          1   \n",
       "4                         2                          0   \n",
       "\n",
       "   Level 1/2 Clinical Annotation count  Guideline Annotation count   \n",
       "0                                    0                           0  \\\n",
       "1                                    0                           0   \n",
       "2                                    0                           0   \n",
       "3                                    0                           0   \n",
       "4                                    0                           0   \n",
       "\n",
       "   Label Annotation count                                           Synonyms  \n",
       "0                       0  rs17623022, NG_047115.1:g.105031=, NC_000003.1...  \n",
       "1                       0  1000113, NC_000005.9:g.150240076=, NC_000005.9...  \n",
       "2                       0  10006452, NC_000004.12:g.69112090T>A, 58882597...  \n",
       "3                       0  NC_000004.11:g.130165464=, NC_000004.12:g.1292...  \n",
       "4                       0  10008257, NC_000004.12:g.94435177=, rs10008257...  "
      ]
     },
     "execution_count": 32,
     "metadata": {},
     "output_type": "execute_result"
    }
   ],
   "source": [
    "variants_df = pd.read_csv('PharmGKB/primary_data/variants/variants.tsv', delimiter='\\t')\n",
    "variants_df.head()"
   ]
  },
  {
   "cell_type": "code",
   "execution_count": 33,
   "metadata": {},
   "outputs": [
    {
     "name": "stdout",
     "output_type": "stream",
     "text": [
      "<class 'pandas.core.frame.DataFrame'>\n",
      "RangeIndex: 6797 entries, 0 to 6796\n",
      "Data columns (total 11 columns):\n",
      " #   Column                               Non-Null Count  Dtype \n",
      "---  ------                               --------------  ----- \n",
      " 0   Variant ID                           6797 non-null   object\n",
      " 1   Variant Name                         6797 non-null   object\n",
      " 2   Gene IDs                             6151 non-null   object\n",
      " 3   Gene Symbols                         6151 non-null   object\n",
      " 4   Location                             6788 non-null   object\n",
      " 5   Variant Annotation count             6797 non-null   int64 \n",
      " 6   Clinical Annotation count            6797 non-null   int64 \n",
      " 7   Level 1/2 Clinical Annotation count  6797 non-null   int64 \n",
      " 8   Guideline Annotation count           6797 non-null   int64 \n",
      " 9   Label Annotation count               6797 non-null   int64 \n",
      " 10  Synonyms                             6797 non-null   object\n",
      "dtypes: int64(5), object(6)\n",
      "memory usage: 584.2+ KB\n"
     ]
    }
   ],
   "source": [
    "variants_df.info()"
   ]
  },
  {
   "cell_type": "code",
   "execution_count": 34,
   "metadata": {},
   "outputs": [
    {
     "data": {
      "text/html": [
       "<div>\n",
       "<style scoped>\n",
       "    .dataframe tbody tr th:only-of-type {\n",
       "        vertical-align: middle;\n",
       "    }\n",
       "\n",
       "    .dataframe tbody tr th {\n",
       "        vertical-align: top;\n",
       "    }\n",
       "\n",
       "    .dataframe thead th {\n",
       "        text-align: right;\n",
       "    }\n",
       "</style>\n",
       "<table border=\"1\" class=\"dataframe\">\n",
       "  <thead>\n",
       "    <tr style=\"text-align: right;\">\n",
       "      <th></th>\n",
       "      <th>nunique</th>\n",
       "      <th>count</th>\n",
       "    </tr>\n",
       "  </thead>\n",
       "  <tbody>\n",
       "    <tr>\n",
       "      <th>Gene IDs</th>\n",
       "      <td>1963</td>\n",
       "      <td>6151</td>\n",
       "    </tr>\n",
       "    <tr>\n",
       "      <th>Gene Symbols</th>\n",
       "      <td>1963</td>\n",
       "      <td>6151</td>\n",
       "    </tr>\n",
       "    <tr>\n",
       "      <th>Location</th>\n",
       "      <td>6787</td>\n",
       "      <td>6788</td>\n",
       "    </tr>\n",
       "    <tr>\n",
       "      <th>Variant Annotation count</th>\n",
       "      <td>109</td>\n",
       "      <td>6797</td>\n",
       "    </tr>\n",
       "    <tr>\n",
       "      <th>Clinical Annotation count</th>\n",
       "      <td>47</td>\n",
       "      <td>6797</td>\n",
       "    </tr>\n",
       "    <tr>\n",
       "      <th>Level 1/2 Clinical Annotation count</th>\n",
       "      <td>32</td>\n",
       "      <td>6797</td>\n",
       "    </tr>\n",
       "    <tr>\n",
       "      <th>Guideline Annotation count</th>\n",
       "      <td>6</td>\n",
       "      <td>6797</td>\n",
       "    </tr>\n",
       "    <tr>\n",
       "      <th>Label Annotation count</th>\n",
       "      <td>10</td>\n",
       "      <td>6797</td>\n",
       "    </tr>\n",
       "  </tbody>\n",
       "</table>\n",
       "</div>"
      ],
      "text/plain": [
       "                                     nunique  count\n",
       "Gene IDs                                1963   6151\n",
       "Gene Symbols                            1963   6151\n",
       "Location                                6787   6788\n",
       "Variant Annotation count                 109   6797\n",
       "Clinical Annotation count                 47   6797\n",
       "Level 1/2 Clinical Annotation count       32   6797\n",
       "Guideline Annotation count                 6   6797\n",
       "Label Annotation count                    10   6797"
      ]
     },
     "execution_count": 34,
     "metadata": {},
     "output_type": "execute_result"
    }
   ],
   "source": [
    "variants_df.nunique().compare(variants_df.count(), keep_equal=True, result_names=(\"nunique\", \"count\"))"
   ]
  },
  {
   "cell_type": "code",
   "execution_count": 35,
   "metadata": {},
   "outputs": [
    {
     "data": {
      "text/html": [
       "<div>\n",
       "<style scoped>\n",
       "    .dataframe tbody tr th:only-of-type {\n",
       "        vertical-align: middle;\n",
       "    }\n",
       "\n",
       "    .dataframe tbody tr th {\n",
       "        vertical-align: top;\n",
       "    }\n",
       "\n",
       "    .dataframe thead th {\n",
       "        text-align: right;\n",
       "    }\n",
       "</style>\n",
       "<table border=\"1\" class=\"dataframe\">\n",
       "  <thead>\n",
       "    <tr style=\"text-align: right;\">\n",
       "      <th></th>\n",
       "      <th>Id</th>\n",
       "      <th>Name</th>\n",
       "      <th>Alternate_Names</th>\n",
       "    </tr>\n",
       "  </thead>\n",
       "  <tbody>\n",
       "    <tr>\n",
       "      <th>0</th>\n",
       "      <td>PA166156302</td>\n",
       "      <td>rs1000002</td>\n",
       "      <td>rs17623022, NG_047115.1:g.105031=, NC_000003.1...</td>\n",
       "    </tr>\n",
       "    <tr>\n",
       "      <th>1</th>\n",
       "      <td>PA166156746</td>\n",
       "      <td>rs1000113</td>\n",
       "      <td>1000113, NC_000005.9:g.150240076=, NC_000005.9...</td>\n",
       "    </tr>\n",
       "    <tr>\n",
       "      <th>2</th>\n",
       "      <td>PA166195421</td>\n",
       "      <td>rs10006452</td>\n",
       "      <td>10006452, NC_000004.12:g.69112090T&gt;A, 58882597...</td>\n",
       "    </tr>\n",
       "    <tr>\n",
       "      <th>3</th>\n",
       "      <td>PA166177121</td>\n",
       "      <td>rs10007051</td>\n",
       "      <td>NC_000004.11:g.130165464=, NC_000004.12:g.1292...</td>\n",
       "    </tr>\n",
       "    <tr>\n",
       "      <th>4</th>\n",
       "      <td>PA166156636</td>\n",
       "      <td>rs10008257</td>\n",
       "      <td>10008257, NC_000004.12:g.94435177=, rs10008257...</td>\n",
       "    </tr>\n",
       "  </tbody>\n",
       "</table>\n",
       "</div>"
      ],
      "text/plain": [
       "            Id        Name                                    Alternate_Names\n",
       "0  PA166156302   rs1000002  rs17623022, NG_047115.1:g.105031=, NC_000003.1...\n",
       "1  PA166156746   rs1000113  1000113, NC_000005.9:g.150240076=, NC_000005.9...\n",
       "2  PA166195421  rs10006452  10006452, NC_000004.12:g.69112090T>A, 58882597...\n",
       "3  PA166177121  rs10007051  NC_000004.11:g.130165464=, NC_000004.12:g.1292...\n",
       "4  PA166156636  rs10008257  10008257, NC_000004.12:g.94435177=, rs10008257..."
      ]
     },
     "execution_count": 35,
     "metadata": {},
     "output_type": "execute_result"
    }
   ],
   "source": [
    "all_variants_df = pd.DataFrame({\n",
    "    'Id': variants_df['Variant ID'],\n",
    "    'Name': variants_df['Variant Name'],\n",
    "    'Alternate_Names': variants_df['Synonyms']\n",
    "})\n",
    "all_variants_df.drop_duplicates(keep=\"first\", inplace=True)\n",
    "all_variants_df.head()"
   ]
  },
  {
   "cell_type": "code",
   "execution_count": 36,
   "metadata": {},
   "outputs": [
    {
     "data": {
      "text/plain": [
       "Id                 6797\n",
       "Name               6797\n",
       "Alternate_Names    6797\n",
       "dtype: int64"
      ]
     },
     "execution_count": 36,
     "metadata": {},
     "output_type": "execute_result"
    }
   ],
   "source": [
    "all_variants_df.count()"
   ]
  },
  {
   "attachments": {},
   "cell_type": "markdown",
   "metadata": {},
   "source": [
    "### Genes Dataset"
   ]
  },
  {
   "cell_type": "code",
   "execution_count": 37,
   "metadata": {},
   "outputs": [
    {
     "name": "stdout",
     "output_type": "stream",
     "text": [
      "<class 'pandas.core.frame.DataFrame'>\n",
      "Index: 2046 entries, 0 to 6759\n",
      "Data columns (total 3 columns):\n",
      " #   Column           Non-Null Count  Dtype \n",
      "---  ------           --------------  ----- \n",
      " 0   Id               2046 non-null   object\n",
      " 1   Name             2046 non-null   object\n",
      " 2   Alternate_Names  2046 non-null   object\n",
      "dtypes: object(3)\n",
      "memory usage: 63.9+ KB\n"
     ]
    }
   ],
   "source": [
    "variants_df_exploded = variants_df.copy()\n",
    "variants_df_exploded.loc[:, \"Gene IDs\"] = variants_df_exploded[\"Gene IDs\"].str.split(\",\")\n",
    "variants_df_exploded.loc[:, \"Gene Symbols\"] = variants_df_exploded[\"Gene Symbols\"].str.split(\",\")\n",
    "variants_df_exploded = variants_df_exploded.explode([\"Gene IDs\", \"Gene Symbols\"])\n",
    "\n",
    "all_genes_df = pd.DataFrame({\n",
    "    'Id': variants_df_exploded['Gene IDs'],\n",
    "    'Name': variants_df_exploded['Gene Symbols'],\n",
    "    'Alternate_Names': variants_df_exploded['Gene Symbols']\n",
    "})\n",
    "\n",
    "all_genes_df.drop_duplicates(keep=\"first\", inplace=True)\n",
    "all_genes_df.dropna(inplace=True)\n",
    "\n",
    "all_genes_df.info()"
   ]
  },
  {
   "cell_type": "code",
   "execution_count": 38,
   "metadata": {},
   "outputs": [
    {
     "data": {
      "text/html": [
       "<div>\n",
       "<style scoped>\n",
       "    .dataframe tbody tr th:only-of-type {\n",
       "        vertical-align: middle;\n",
       "    }\n",
       "\n",
       "    .dataframe tbody tr th {\n",
       "        vertical-align: top;\n",
       "    }\n",
       "\n",
       "    .dataframe thead th {\n",
       "        text-align: right;\n",
       "    }\n",
       "</style>\n",
       "<table border=\"1\" class=\"dataframe\">\n",
       "  <thead>\n",
       "    <tr style=\"text-align: right;\">\n",
       "      <th></th>\n",
       "      <th>nunique</th>\n",
       "      <th>count</th>\n",
       "    </tr>\n",
       "  </thead>\n",
       "  <tbody>\n",
       "  </tbody>\n",
       "</table>\n",
       "</div>"
      ],
      "text/plain": [
       "Empty DataFrame\n",
       "Columns: [nunique, count]\n",
       "Index: []"
      ]
     },
     "execution_count": 38,
     "metadata": {},
     "output_type": "execute_result"
    }
   ],
   "source": [
    "all_genes_df.nunique().compare(all_genes_df.count(), keep_equal=True, result_names=(\"nunique\", \"count\"))"
   ]
  },
  {
   "attachments": {},
   "cell_type": "markdown",
   "metadata": {},
   "source": [
    "## Nodes & Edges"
   ]
  },
  {
   "attachments": {},
   "cell_type": "markdown",
   "metadata": {},
   "source": [
    "### Nodes"
   ]
  },
  {
   "cell_type": "code",
   "execution_count": 39,
   "metadata": {},
   "outputs": [
    {
     "data": {
      "text/html": [
       "<div>\n",
       "<style scoped>\n",
       "    .dataframe tbody tr th:only-of-type {\n",
       "        vertical-align: middle;\n",
       "    }\n",
       "\n",
       "    .dataframe tbody tr th {\n",
       "        vertical-align: top;\n",
       "    }\n",
       "\n",
       "    .dataframe thead th {\n",
       "        text-align: right;\n",
       "    }\n",
       "</style>\n",
       "<table border=\"1\" class=\"dataframe\">\n",
       "  <thead>\n",
       "    <tr style=\"text-align: right;\">\n",
       "      <th></th>\n",
       "      <th>Id</th>\n",
       "      <th>Label</th>\n",
       "      <th>Alternate_Names</th>\n",
       "      <th>Category</th>\n",
       "    </tr>\n",
       "  </thead>\n",
       "  <tbody>\n",
       "    <tr>\n",
       "      <th>0</th>\n",
       "      <td>PA450195</td>\n",
       "      <td>lepirudin</td>\n",
       "      <td>hirudin variant-1 ; lepirudin</td>\n",
       "      <td>Chemical</td>\n",
       "    </tr>\n",
       "    <tr>\n",
       "      <th>1031</th>\n",
       "      <td>PA164760854</td>\n",
       "      <td>bromodiphenhydramine</td>\n",
       "      <td>ambodryl hydrochloride ; amodryl ; bromanautin...</td>\n",
       "      <td>Chemical</td>\n",
       "    </tr>\n",
       "    <tr>\n",
       "      <th>1030</th>\n",
       "      <td>PA451684</td>\n",
       "      <td>ticarcillin</td>\n",
       "      <td>ticarcilina [inn-spanish] ; ticarcillin supple...</td>\n",
       "      <td>Chemical</td>\n",
       "    </tr>\n",
       "    <tr>\n",
       "      <th>1029</th>\n",
       "      <td>PA165958380</td>\n",
       "      <td>levonordefrin</td>\n",
       "      <td>(-)-cobefrin ; alpha-methylnoradrenaline ; alp...</td>\n",
       "      <td>Chemical</td>\n",
       "    </tr>\n",
       "    <tr>\n",
       "      <th>1027</th>\n",
       "      <td>PA450351</td>\n",
       "      <td>megestrol</td>\n",
       "      <td>mga ; megestrol acetate ; megestrolo [dcit] ; ...</td>\n",
       "      <td>Chemical</td>\n",
       "    </tr>\n",
       "  </tbody>\n",
       "</table>\n",
       "</div>"
      ],
      "text/plain": [
       "               Id                 Label   \n",
       "0        PA450195             lepirudin  \\\n",
       "1031  PA164760854  bromodiphenhydramine   \n",
       "1030     PA451684           ticarcillin   \n",
       "1029  PA165958380         levonordefrin   \n",
       "1027     PA450351             megestrol   \n",
       "\n",
       "                                        Alternate_Names  Category  \n",
       "0                         hirudin variant-1 ; lepirudin  Chemical  \n",
       "1031  ambodryl hydrochloride ; amodryl ; bromanautin...  Chemical  \n",
       "1030  ticarcilina [inn-spanish] ; ticarcillin supple...  Chemical  \n",
       "1029  (-)-cobefrin ; alpha-methylnoradrenaline ; alp...  Chemical  \n",
       "1027  mga ; megestrol acetate ; megestrolo [dcit] ; ...  Chemical  "
      ]
     },
     "execution_count": 39,
     "metadata": {},
     "output_type": "execute_result"
    }
   ],
   "source": [
    "all_diseases_df[\"Category\"] = \"Disease\"\n",
    "all_drugs_df[\"Category\"] = \"Chemical\"\n",
    "all_variants_df[\"Category\"] = \"Variant\"\n",
    "all_genes_df[\"Category\"] = \"Gene\"\n",
    "\n",
    "nodes = pd.concat([all_drugs_df, all_diseases_df, all_variants_df, all_genes_df])\n",
    "\n",
    "nodes = nodes[[\"Id\", \"Name\", \"Alternate_Names\", \"Category\"]]\n",
    "\n",
    "nodes.rename(columns={\"Name\": \"Label\"}, inplace=True)\n",
    "\n",
    "nodes.head()"
   ]
  },
  {
   "cell_type": "code",
   "execution_count": 40,
   "metadata": {},
   "outputs": [
    {
     "name": "stdout",
     "output_type": "stream",
     "text": [
      "<class 'pandas.core.frame.DataFrame'>\n",
      "Index: 16704 entries, 0 to 6759\n",
      "Data columns (total 4 columns):\n",
      " #   Column           Non-Null Count  Dtype \n",
      "---  ------           --------------  ----- \n",
      " 0   Id               16704 non-null  object\n",
      " 1   Label            16704 non-null  object\n",
      " 2   Alternate_Names  16704 non-null  object\n",
      " 3   Category         16704 non-null  object\n",
      "dtypes: object(4)\n",
      "memory usage: 652.5+ KB\n"
     ]
    }
   ],
   "source": [
    "nodes.info()"
   ]
  },
  {
   "cell_type": "code",
   "execution_count": 41,
   "metadata": {},
   "outputs": [
    {
     "data": {
      "text/plain": [
       "Category\n",
       "Variant     6797\n",
       "Disease     4011\n",
       "Chemical    3850\n",
       "Gene        2046\n",
       "Name: count, dtype: int64"
      ]
     },
     "execution_count": 41,
     "metadata": {},
     "output_type": "execute_result"
    }
   ],
   "source": [
    "nodes.Category.value_counts()"
   ]
  },
  {
   "attachments": {},
   "cell_type": "markdown",
   "metadata": {},
   "source": [
    "### Edges"
   ]
  },
  {
   "attachments": {},
   "cell_type": "markdown",
   "metadata": {},
   "source": [
    "#### Wikidata"
   ]
  },
  {
   "cell_type": "code",
   "execution_count": 42,
   "metadata": {},
   "outputs": [
    {
     "name": "stdout",
     "output_type": "stream",
     "text": [
      "<class 'pandas.core.frame.DataFrame'>\n",
      "Index: 6294 entries, 0 to 7625\n",
      "Data columns (total 7 columns):\n",
      " #   Column        Non-Null Count  Dtype \n",
      "---  ------        --------------  ----- \n",
      " 0   Entity1_id    6294 non-null   object\n",
      " 1   Entity1_name  6294 non-null   object\n",
      " 2   Entity1_type  6294 non-null   object\n",
      " 3   Entity2_id    6294 non-null   object\n",
      " 4   Entity2_name  6294 non-null   object\n",
      " 5   Entity2_type  6294 non-null   object\n",
      " 6   Category      6294 non-null   object\n",
      "dtypes: object(7)\n",
      "memory usage: 393.4+ KB\n"
     ]
    }
   ],
   "source": [
    "relationships = pd.read_csv(\"Wikidata/relationships.tsv\", delimiter=\"\\t\").dropna(subset=[\"Entity1_id\", \"Entity2_id\"])\n",
    "relationships.drop_duplicates(keep=\"first\", inplace=True)\n",
    "relationships.dropna(subset=[\"Entity1_id\"], inplace=True)\n",
    "relationships.dropna(subset=[\"Entity2_id\"], inplace=True)\n",
    "relationships.info()"
   ]
  },
  {
   "cell_type": "code",
   "execution_count": 43,
   "metadata": {},
   "outputs": [
    {
     "name": "stdout",
     "output_type": "stream",
     "text": [
      "<class 'pandas.core.frame.DataFrame'>\n",
      "Index: 6200 entries, 0 to 7625\n",
      "Data columns (total 4 columns):\n",
      " #   Column    Non-Null Count  Dtype \n",
      "---  ------    --------------  ----- \n",
      " 0   Source    6200 non-null   object\n",
      " 1   Target    6200 non-null   object\n",
      " 2   Type      6200 non-null   object\n",
      " 3   Category  6200 non-null   object\n",
      "dtypes: object(4)\n",
      "memory usage: 242.2+ KB\n"
     ]
    }
   ],
   "source": [
    "dbid_to_id = all_drugs_df[[\"DrugBank ID\", \"Id\"]].set_index(\"DrugBank ID\").Id.to_dict()\n",
    "doid_to_id = (\n",
    "    all_diseases_df[[\"Disease Ontology ID\", \"Id\"]]\n",
    "    .set_index(\"Disease Ontology ID\")\n",
    "    .Id.to_dict()\n",
    ")\n",
    "\n",
    "diseases1_df_duplicated_Name[\"Id\"] = diseases1_df_duplicated_Name[\"Disease Ontology ID\"].map(doid_to_id)\n",
    "diseases1_df_duplicated_Name[\"Disease Ontology ID\"] = diseases1_df_duplicated_Name.other\n",
    "\n",
    "doid_to_id.update(diseases1_df_duplicated_Name[[\"Disease Ontology ID\", \"Id\"]].set_index(\"Disease Ontology ID\").Id.to_dict())\n",
    "\n",
    "relationships[\"Source\"] = relationships.Entity1_id.map(dbid_to_id)\n",
    "relationships[\"Target\"] = pd.concat(\n",
    "    [\n",
    "        relationships[relationships.Entity2_type == \"Chemical\"].Entity2_id.map(\n",
    "            dbid_to_id\n",
    "        ),\n",
    "        relationships[relationships.Entity2_type == \"Disease\"].Entity2_id.map(\n",
    "            doid_to_id\n",
    "        ),\n",
    "    ]\n",
    ")\n",
    "\n",
    "\n",
    "relationships[\"Type\"] = \"Dirigé\"\n",
    "relationships = relationships[[\"Source\", \"Target\", \"Type\", \"Category\"]]\n",
    "\n",
    "relationships.drop_duplicates(keep=\"first\", inplace=True)\n",
    "\n",
    "relationships.info()"
   ]
  },
  {
   "cell_type": "code",
   "execution_count": 44,
   "metadata": {},
   "outputs": [
    {
     "data": {
      "text/plain": [
       "Category\n",
       "treats            4804\n",
       "interacts with    1396\n",
       "Name: count, dtype: int64"
      ]
     },
     "execution_count": 44,
     "metadata": {},
     "output_type": "execute_result"
    }
   ],
   "source": [
    "relationships.Category.value_counts()"
   ]
  },
  {
   "attachments": {},
   "cell_type": "markdown",
   "metadata": {},
   "source": [
    "#### PharmGKB"
   ]
  },
  {
   "cell_type": "code",
   "execution_count": 45,
   "metadata": {},
   "outputs": [
    {
     "name": "stdout",
     "output_type": "stream",
     "text": [
      "<class 'pandas.core.frame.DataFrame'>\n",
      "Index: 7107 entries, 0 to 6796\n",
      "Data columns (total 4 columns):\n",
      " #   Column    Non-Null Count  Dtype \n",
      "---  ------    --------------  ----- \n",
      " 0   Source    7107 non-null   object\n",
      " 1   Target    7107 non-null   object\n",
      " 2   Type      7107 non-null   object\n",
      " 3   Category  7107 non-null   object\n",
      "dtypes: object(4)\n",
      "memory usage: 277.6+ KB\n"
     ]
    }
   ],
   "source": [
    "variant_gene_edges =  pd.DataFrame(\n",
    "        {\n",
    "            \"Source\": variants_df_exploded[\"Variant ID\"],\n",
    "            \"Target\": variants_df_exploded[\"Gene IDs\"],\n",
    "            \"Type\": \"Dirigé\",\n",
    "            \"Category\": \"Association\",\n",
    "        }\n",
    "    )\n",
    "variant_gene_edges.drop_duplicates(keep=\"first\", inplace=True)\n",
    "variant_gene_edges.dropna(subset=[\"Source\"], inplace=True)\n",
    "variant_gene_edges.dropna(subset=[\"Target\"], inplace=True)\n",
    "variant_gene_edges.info()"
   ]
  },
  {
   "cell_type": "code",
   "execution_count": 46,
   "metadata": {},
   "outputs": [
    {
     "name": "stdout",
     "output_type": "stream",
     "text": [
      "<class 'pandas.core.frame.DataFrame'>\n",
      "Index: 347 entries, 0 to 348\n",
      "Data columns (total 5 columns):\n",
      " #   Column      Non-Null Count  Dtype \n",
      "---  ------      --------------  ----- \n",
      " 0   variant     347 non-null    object\n",
      " 1   gene        346 non-null    object\n",
      " 2   type        347 non-null    object\n",
      " 3   chemicals   347 non-null    object\n",
      " 4   phenotypes  270 non-null    object\n",
      "dtypes: object(5)\n",
      "memory usage: 16.3+ KB\n"
     ]
    }
   ],
   "source": [
    "clinical_annotations_variants = pd.read_csv('PharmGKB/annotations/clinicalVariants/clinicalVariants.tsv', delimiter=\"\\t\")\n",
    "clinical_annotations_variants.drop_duplicates(keep=\"first\", inplace=True)\n",
    "\n",
    "clinical_annotations_variants = clinical_annotations_variants[clinical_annotations_variants[\"level of evidence\"].isin({\"1A\", \"1B\", \"2A\"})]\n",
    "clinical_annotations_variants.drop(columns=[\"level of evidence\"], inplace=True)\n",
    "\n",
    "clinical_annotations_variants.info()"
   ]
  },
  {
   "cell_type": "code",
   "execution_count": 47,
   "metadata": {},
   "outputs": [
    {
     "name": "stdout",
     "output_type": "stream",
     "text": [
      "<class 'pandas.core.frame.DataFrame'>\n",
      "Index: 776 entries, 0 to 348\n",
      "Data columns (total 5 columns):\n",
      " #   Column     Non-Null Count  Dtype \n",
      "---  ------     --------------  ----- \n",
      " 0   variant    776 non-null    object\n",
      " 1   gene       775 non-null    object\n",
      " 2   type       776 non-null    object\n",
      " 3   chemical   776 non-null    object\n",
      " 4   phenotype  695 non-null    object\n",
      "dtypes: object(5)\n",
      "memory usage: 36.4+ KB\n"
     ]
    }
   ],
   "source": [
    "clinical_annotations_variants_exploded = clinical_annotations_variants.copy()\n",
    "\n",
    "clinical_annotations_variants_exploded.chemicals = clinical_annotations_variants_exploded.chemicals.str.lower().str.split(',')\n",
    "clinical_annotations_variants_exploded.phenotypes = clinical_annotations_variants_exploded.phenotypes.str.lower().str.split(',')\n",
    "\n",
    "clinical_annotations_variants_exploded = clinical_annotations_variants_exploded.explode(column=\"chemicals\").explode(column=\"phenotypes\")\n",
    "clinical_annotations_variants_exploded.rename(columns={\"chemicals\" : \"chemical\", \"phenotypes\" : \"phenotype\"}, inplace=True)\n",
    "\n",
    "clinical_annotations_variants_exploded.drop_duplicates(keep=\"first\", inplace=True)\n",
    "\n",
    "clinical_annotations_variants_exploded.info()"
   ]
  },
  {
   "cell_type": "code",
   "execution_count": 48,
   "metadata": {},
   "outputs": [
    {
     "name": "stdout",
     "output_type": "stream",
     "text": [
      "<class 'pandas.core.frame.DataFrame'>\n",
      "Index: 776 entries, 0 to 348\n",
      "Data columns (total 8 columns):\n",
      " #   Column        Non-Null Count  Dtype \n",
      "---  ------        --------------  ----- \n",
      " 0   variant       776 non-null    object\n",
      " 1   gene          775 non-null    object\n",
      " 2   type          776 non-null    object\n",
      " 3   chemical      776 non-null    object\n",
      " 4   phenotype     695 non-null    object\n",
      " 5   variant Id    776 non-null    object\n",
      " 6   chemical Id   771 non-null    object\n",
      " 7   phenotype Id  633 non-null    object\n",
      "dtypes: object(8)\n",
      "memory usage: 54.6+ KB\n"
     ]
    }
   ],
   "source": [
    "variant_label_to_id = variants_df_exploded[[\"Variant ID\", \"Variant Name\"]].set_index(\"Variant Name\")[\"Variant ID\"].to_dict()\n",
    "\n",
    "gene_label_to_id = variants_df_exploded[[\"Gene IDs\", \"Gene Symbols\"]].dropna()\n",
    "\n",
    "gene_label_to_id = gene_label_to_id[[\"Gene IDs\", \"Gene Symbols\"]].set_index(\"Gene Symbols\")[\"Gene IDs\"].to_dict()\n",
    "\n",
    "drug_label_to_id = drugs2_df[[\"PharmGKB Accession Id\", \"Name\"]].set_index(\"Name\")[\"PharmGKB Accession Id\"].to_dict()\n",
    "\n",
    "phenotype_label_to_id = diseases2_df[[\"PharmGKB Accession Id\", \"Name\"]].set_index(\"Name\")[\"PharmGKB Accession Id\"].to_dict()\n",
    "\n",
    "clinical_annotations_variants_exploded[\"variant Id\"] = clinical_annotations_variants_exploded.variant.map(variant_label_to_id).fillna(clinical_annotations_variants_exploded.gene.map(gene_label_to_id))\n",
    "\n",
    "clinical_annotations_variants_exploded[\"chemical Id\"] = clinical_annotations_variants_exploded.chemical.map(drug_label_to_id)\n",
    "\n",
    "clinical_annotations_variants_exploded[\"phenotype Id\"] = clinical_annotations_variants_exploded.phenotype.map(phenotype_label_to_id)\n",
    "\n",
    "clinical_annotations_variants_exploded.info()"
   ]
  },
  {
   "cell_type": "code",
   "execution_count": 49,
   "metadata": {},
   "outputs": [
    {
     "name": "stdout",
     "output_type": "stream",
     "text": [
      "<class 'pandas.core.frame.DataFrame'>\n",
      "Index: 695 entries, 3 to 348\n",
      "Data columns (total 10 columns):\n",
      " #   Column               Non-Null Count  Dtype \n",
      "---  ------               --------------  ----- \n",
      " 0   variant              695 non-null    object\n",
      " 1   gene                 695 non-null    object\n",
      " 2   type                 695 non-null    object\n",
      " 3   chemical             695 non-null    object\n",
      " 4   phenotype            695 non-null    object\n",
      " 5   variant Id           695 non-null    object\n",
      " 6   chemical Id          695 non-null    object\n",
      " 7   phenotype Id         633 non-null    object\n",
      " 8   variant+chemical     695 non-null    object\n",
      " 9   variant+chemical Id  695 non-null    object\n",
      "dtypes: object(10)\n",
      "memory usage: 59.7+ KB\n"
     ]
    }
   ],
   "source": [
    "clinical_annotations_variants_with_phenotype = clinical_annotations_variants_exploded[clinical_annotations_variants_exploded.phenotype.notna()].copy()\n",
    "clinical_annotations_variants_with_phenotype[\"variant+chemical\"] = clinical_annotations_variants_with_phenotype.variant.astype(str).add(\"+\").add(clinical_annotations_variants_with_phenotype.chemical)\n",
    "clinical_annotations_variants_with_phenotype[\"variant+chemical Id\"] = clinical_annotations_variants_with_phenotype[\"variant Id\"].astype(str).add(\"+\").add(clinical_annotations_variants_with_phenotype[\"chemical Id\"])\n",
    "clinical_annotations_variants_with_phenotype.info()"
   ]
  },
  {
   "cell_type": "code",
   "execution_count": 50,
   "metadata": {},
   "outputs": [
    {
     "name": "stdout",
     "output_type": "stream",
     "text": [
      "<class 'pandas.core.frame.DataFrame'>\n",
      "Index: 494 entries, 3 to 348\n",
      "Data columns (total 4 columns):\n",
      " #   Column           Non-Null Count  Dtype \n",
      "---  ------           --------------  ----- \n",
      " 0   Id               494 non-null    object\n",
      " 1   Label            494 non-null    object\n",
      " 2   Alternate_Names  494 non-null    object\n",
      " 3   Category         494 non-null    object\n",
      "dtypes: object(4)\n",
      "memory usage: 19.3+ KB\n"
     ]
    }
   ],
   "source": [
    "intermediate_nodes = pd.DataFrame({\n",
    "    \"Id\": clinical_annotations_variants_with_phenotype[\"variant+chemical Id\"],\n",
    "    \"Label\": clinical_annotations_variants_with_phenotype[\"variant+chemical\"],\n",
    "    \"Alternate_Names\": clinical_annotations_variants_with_phenotype[\"variant+chemical\"], \n",
    "    \"Category\": \"Variant+Chemical\",})\n",
    "\n",
    "intermediate_nodes.drop_duplicates(subset=[\"Id\"], inplace=True)\n",
    "intermediate_nodes.drop_duplicates(subset=[\"Label\"], inplace=True)\n",
    "intermediate_nodes.info()"
   ]
  },
  {
   "cell_type": "code",
   "execution_count": 51,
   "metadata": {},
   "outputs": [
    {
     "data": {
      "text/plain": [
       "Category\n",
       "Variant             6797\n",
       "Disease             4011\n",
       "Chemical            3850\n",
       "Gene                2046\n",
       "Variant+Chemical     494\n",
       "Name: count, dtype: int64"
      ]
     },
     "execution_count": 51,
     "metadata": {},
     "output_type": "execute_result"
    }
   ],
   "source": [
    "nodes = pd.concat([nodes, intermediate_nodes], ignore_index=True)\n",
    "nodes.Category.value_counts()"
   ]
  },
  {
   "cell_type": "code",
   "execution_count": 52,
   "metadata": {},
   "outputs": [
    {
     "name": "stdout",
     "output_type": "stream",
     "text": [
      "<class 'pandas.core.frame.DataFrame'>\n",
      "Index: 494 entries, 3 to 348\n",
      "Data columns (total 4 columns):\n",
      " #   Column    Non-Null Count  Dtype \n",
      "---  ------    --------------  ----- \n",
      " 0   Source    494 non-null    object\n",
      " 1   Target    494 non-null    object\n",
      " 2   Type      494 non-null    object\n",
      " 3   Category  494 non-null    object\n",
      "dtypes: object(4)\n",
      "memory usage: 19.3+ KB\n"
     ]
    }
   ],
   "source": [
    "variant_to_intermediate_edges = pd.DataFrame({\n",
    "    \"Source\": clinical_annotations_variants_with_phenotype[\"variant Id\"],\n",
    "    \"Target\": clinical_annotations_variants_with_phenotype[\"variant+chemical Id\"], \n",
    "    \"Type\": \"Dirigé\", \n",
    "    \"Category\": \"+\"\n",
    "})\n",
    "variant_to_intermediate_edges.drop_duplicates(subset=[\"Target\"], keep=\"first\", inplace=True)\n",
    "variant_to_intermediate_edges.dropna(subset=[\"Source\"], inplace=True)\n",
    "variant_to_intermediate_edges.dropna(subset=[\"Target\"], inplace=True)\n",
    "variant_to_intermediate_edges.info()"
   ]
  },
  {
   "cell_type": "code",
   "execution_count": 53,
   "metadata": {},
   "outputs": [
    {
     "name": "stdout",
     "output_type": "stream",
     "text": [
      "<class 'pandas.core.frame.DataFrame'>\n",
      "Index: 494 entries, 3 to 348\n",
      "Data columns (total 4 columns):\n",
      " #   Column    Non-Null Count  Dtype \n",
      "---  ------    --------------  ----- \n",
      " 0   Source    494 non-null    object\n",
      " 1   Target    494 non-null    object\n",
      " 2   Type      494 non-null    object\n",
      " 3   Category  494 non-null    object\n",
      "dtypes: object(4)\n",
      "memory usage: 19.3+ KB\n"
     ]
    }
   ],
   "source": [
    "chemical_to_intermediate_edges = pd.DataFrame({\n",
    "    \"Source\": clinical_annotations_variants_with_phenotype[\"chemical Id\"],\n",
    "    \"Target\": clinical_annotations_variants_with_phenotype[\"variant+chemical Id\"], \n",
    "    \"Type\": \"Dirigé\", \n",
    "    \"Category\": \"+\"\n",
    "})\n",
    "chemical_to_intermediate_edges.drop_duplicates(subset=[\"Target\"], keep=\"first\", inplace=True)\n",
    "chemical_to_intermediate_edges.dropna(subset=[\"Source\"], inplace=True)\n",
    "chemical_to_intermediate_edges.dropna(subset=[\"Target\"], inplace=True)\n",
    "chemical_to_intermediate_edges.info()"
   ]
  },
  {
   "cell_type": "code",
   "execution_count": 54,
   "metadata": {},
   "outputs": [
    {
     "name": "stdout",
     "output_type": "stream",
     "text": [
      "<class 'pandas.core.frame.DataFrame'>\n",
      "Index: 627 entries, 3 to 348\n",
      "Data columns (total 4 columns):\n",
      " #   Column    Non-Null Count  Dtype \n",
      "---  ------    --------------  ----- \n",
      " 0   Source    627 non-null    object\n",
      " 1   Target    627 non-null    object\n",
      " 2   Type      627 non-null    object\n",
      " 3   Category  627 non-null    object\n",
      "dtypes: object(4)\n",
      "memory usage: 24.5+ KB\n"
     ]
    }
   ],
   "source": [
    "intermediate_to_phenotype_edges = pd.DataFrame({\n",
    "    \"Source\": clinical_annotations_variants_with_phenotype[\"variant+chemical Id\"],\n",
    "    \"Target\": clinical_annotations_variants_with_phenotype[\"phenotype Id\"], \n",
    "    \"Type\": \"Dirigé\", \n",
    "    \"Category\": clinical_annotations_variants_with_phenotype[\"type\"]\n",
    "})\n",
    "intermediate_to_phenotype_edges.drop_duplicates(keep=\"first\", inplace=True)\n",
    "intermediate_to_phenotype_edges.dropna(subset=[\"Source\"], inplace=True)\n",
    "intermediate_to_phenotype_edges.dropna(subset=[\"Target\"], inplace=True)\n",
    "intermediate_to_phenotype_edges.info()"
   ]
  },
  {
   "cell_type": "code",
   "execution_count": 55,
   "metadata": {},
   "outputs": [
    {
     "data": {
      "text/plain": [
       "variant         81\n",
       "gene            80\n",
       "type            81\n",
       "chemical        81\n",
       "variant Id      81\n",
       "chemical Id     76\n",
       "phenotype Id     0\n",
       "dtype: int64"
      ]
     },
     "execution_count": 55,
     "metadata": {},
     "output_type": "execute_result"
    }
   ],
   "source": [
    "clinical_annotations_variants = clinical_annotations_variants_exploded[clinical_annotations_variants_exploded.phenotype.isna()].copy()\n",
    "clinical_annotations_variants.drop(columns=\"phenotype\", inplace=True)\n",
    "clinical_annotations_variants.count()"
   ]
  },
  {
   "cell_type": "code",
   "execution_count": 56,
   "metadata": {},
   "outputs": [
    {
     "name": "stdout",
     "output_type": "stream",
     "text": [
      "<class 'pandas.core.frame.DataFrame'>\n",
      "Index: 76 entries, 0 to 338\n",
      "Data columns (total 4 columns):\n",
      " #   Column    Non-Null Count  Dtype \n",
      "---  ------    --------------  ----- \n",
      " 0   Source    76 non-null     object\n",
      " 1   Target    76 non-null     object\n",
      " 2   Type      76 non-null     object\n",
      " 3   Category  76 non-null     object\n",
      "dtypes: object(4)\n",
      "memory usage: 3.0+ KB\n"
     ]
    }
   ],
   "source": [
    "variant_to_chemical_edges = pd.DataFrame({\n",
    "    \"Source\": clinical_annotations_variants[\"variant Id\"],\n",
    "    \"Target\": clinical_annotations_variants[\"chemical Id\"], \n",
    "    \"Type\": \"Dirigé\", \n",
    "    \"Category\": clinical_annotations_variants[\"type\"]\n",
    "})\n",
    "variant_to_chemical_edges.drop_duplicates(keep=\"first\", inplace=True)\n",
    "variant_to_chemical_edges.dropna(subset=[\"Source\"], inplace=True)\n",
    "variant_to_chemical_edges.dropna(subset=[\"Target\"], inplace=True)\n",
    "variant_to_chemical_edges.info()"
   ]
  },
  {
   "cell_type": "code",
   "execution_count": 57,
   "metadata": {},
   "outputs": [
    {
     "name": "stdout",
     "output_type": "stream",
     "text": [
      "<class 'pandas.core.frame.DataFrame'>\n",
      "Index: 14998 entries, 0 to 348\n",
      "Data columns (total 4 columns):\n",
      " #   Column    Non-Null Count  Dtype \n",
      "---  ------    --------------  ----- \n",
      " 0   Source    14998 non-null  object\n",
      " 1   Target    14998 non-null  object\n",
      " 2   Type      14998 non-null  object\n",
      " 3   Category  14998 non-null  object\n",
      "dtypes: object(4)\n",
      "memory usage: 585.9+ KB\n"
     ]
    }
   ],
   "source": [
    "edges = pd.concat([relationships, variant_gene_edges, variant_to_chemical_edges, variant_to_intermediate_edges, chemical_to_intermediate_edges, intermediate_to_phenotype_edges])\n",
    "edges.info()"
   ]
  },
  {
   "cell_type": "code",
   "execution_count": 58,
   "metadata": {},
   "outputs": [
    {
     "data": {
      "text/plain": [
       "Category\n",
       "Association          7107\n",
       "treats               4804\n",
       "interacts with       1396\n",
       "+                     988\n",
       "Toxicity              473\n",
       "Metabolism/PK          99\n",
       "Efficacy               80\n",
       "Dosage                 33\n",
       "Other                  15\n",
       "Efficacy,Toxicity       3\n",
       "Name: count, dtype: int64"
      ]
     },
     "execution_count": 58,
     "metadata": {},
     "output_type": "execute_result"
    }
   ],
   "source": [
    "edges.Category.value_counts()"
   ]
  },
  {
   "cell_type": "code",
   "execution_count": 59,
   "metadata": {},
   "outputs": [],
   "source": [
    "# Save nodes to CSV\n",
    "nodes.to_csv('nodes.csv', index=False)\n",
    "\n",
    "# Save edges to CSV\n",
    "edges.to_csv('edges.csv', index=False)\n"
   ]
  }
 ],
 "metadata": {
  "kernelspec": {
   "display_name": "INF473G-PROJECT-ENV",
   "language": "python",
   "name": "python3"
  },
  "language_info": {
   "codemirror_mode": {
    "name": "ipython",
    "version": 3
   },
   "file_extension": ".py",
   "mimetype": "text/x-python",
   "name": "python",
   "nbconvert_exporter": "python",
   "pygments_lexer": "ipython3",
   "version": "3.11.3"
  },
  "orig_nbformat": 4
 },
 "nbformat": 4,
 "nbformat_minor": 2
}
